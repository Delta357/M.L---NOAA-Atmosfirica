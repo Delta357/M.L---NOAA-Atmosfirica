{
 "cells": [
  {
   "cell_type": "markdown",
   "metadata": {},
   "source": [
    "![title](imagens/2.jpg)"
   ]
  },
  {
   "cell_type": "markdown",
   "metadata": {},
   "source": [
    "**Contexto**\n",
    "\n",
    "\n",
    "A Global Historical Climatology Network (GHCN) é um banco de dados integrado de resumos climáticos de estações de superfície terrestre em todo o mundo. Este conjunto de dados contém anomalias de temperatura média em grade, ou desvios de um valor de referência ou média de longo prazo, do conjunto de dados de temperatura Global Historical Climatology Network-Monthly (GHCN-M) versão 3.2.1. As anomalias em grade foram produzidas a partir de dados corrigidos de polarização GHCN-M. Cada mês de dados consiste em 2.592 pontos de dados em grade produzidos em uma base de 5 ° por 5 ° para todo o globo (72 longitude por 36 caixas de grade de latitude)."
   ]
  },
  {
   "cell_type": "markdown",
   "metadata": {},
   "source": [
    "**Reconhecimentos**\n",
    "\n",
    "Esses dados são um produto dos Centros Nacionais de Informações Ambientais (NCEI) da NOAA. Ele foi compilado por meio da agregação e análise de muitos milhares de registros de estações meteorológicas.\n",
    "\n",
    "O conjunto de dados de temperatura Global Historical Climatology Network-Monthly (GHCN-M) foi desenvolvido pela primeira vez no início de 1990 (Vose et al. 1992). Uma segunda versão foi lançada em 1997 após extensos esforços para aumentar o número de estações e o comprimento do registro de dados (Peterson e Vose, 1997). "
   ]
  },
  {
   "cell_type": "markdown",
   "metadata": {},
   "source": [
    "**Inspiração**\n",
    "\n",
    "Este conjunto de dados granular permite uma extensa análise histórica do clima da Terra para responder a perguntas sobre as mudanças climáticas, incluindo como diferentes regiões do planeta foram afetadas por mudanças na temperatura ao longo do tempo.\n",
    "\n",
    "**Objetivo**: Os meses mais quentes e mais frios desde 1880"
   ]
  },
  {
   "cell_type": "markdown",
   "metadata": {},
   "source": [
    "**Fonte de dados**:https://www.ncdc.noaa.gov/ghcnm/v3.php ."
   ]
  },
  {
   "cell_type": "code",
   "execution_count": 1,
   "metadata": {},
   "outputs": [],
   "source": [
    "!pip install -q -U watermark"
   ]
  },
  {
   "cell_type": "code",
   "execution_count": 2,
   "metadata": {},
   "outputs": [
    {
     "name": "stdout",
     "output_type": "stream",
     "text": [
      "Versão python neste Jupyter Notebook: 3.7.4\n"
     ]
    }
   ],
   "source": [
    "from platform import python_version\n",
    "\n",
    "print('Versão python neste Jupyter Notebook:', python_version())"
   ]
  },
  {
   "cell_type": "code",
   "execution_count": 3,
   "metadata": {},
   "outputs": [],
   "source": [
    "import pandas as pd\n",
    "import numpy as np\n",
    "import seaborn as sns\n",
    "%matplotlib inline\n",
    "import matplotlib.pyplot as plt"
   ]
  },
  {
   "cell_type": "code",
   "execution_count": 4,
   "metadata": {},
   "outputs": [
    {
     "name": "stdout",
     "output_type": "stream",
     "text": [
      "Author: Rafael Gallo\n",
      "\n",
      "seaborn   : 0.9.0\n",
      "matplotlib: 3.1.1\n",
      "numpy     : 1.16.5\n",
      "pandas    : 1.1.3\n",
      "\n"
     ]
    }
   ],
   "source": [
    "%reload_ext watermark\n",
    "%watermark -a \"Rafael Gallo\" --iversions"
   ]
  },
  {
   "cell_type": "code",
   "execution_count": 5,
   "metadata": {},
   "outputs": [],
   "source": [
    "plt.style.use('seaborn-darkgrid')\n",
    "sns.set_style(\"darkgrid\") \n",
    "\n",
    "sns.set(style=\"darkgrid\", color_codes=True, font_scale=1.5)\n",
    "color = sns.color_palette()"
   ]
  },
  {
   "cell_type": "markdown",
   "metadata": {},
   "source": [
    "# Dados"
   ]
  },
  {
   "cell_type": "code",
   "execution_count": 6,
   "metadata": {},
   "outputs": [
    {
     "data": {
      "text/html": [
       "<div>\n",
       "<style scoped>\n",
       "    .dataframe tbody tr th:only-of-type {\n",
       "        vertical-align: middle;\n",
       "    }\n",
       "\n",
       "    .dataframe tbody tr th {\n",
       "        vertical-align: top;\n",
       "    }\n",
       "\n",
       "    .dataframe thead th {\n",
       "        text-align: right;\n",
       "    }\n",
       "</style>\n",
       "<table border=\"1\" class=\"dataframe\">\n",
       "  <thead>\n",
       "    <tr style=\"text-align: right;\">\n",
       "      <th></th>\n",
       "      <th>year</th>\n",
       "      <th>month</th>\n",
       "      <th>lat</th>\n",
       "      <th>lon_175_180W</th>\n",
       "      <th>lon_170_175W</th>\n",
       "      <th>lon_165_170W</th>\n",
       "      <th>lon_160_165W</th>\n",
       "      <th>lon_155_160W</th>\n",
       "      <th>lon_150_155W</th>\n",
       "      <th>lon_145_150W</th>\n",
       "      <th>...</th>\n",
       "      <th>lon_130_135E</th>\n",
       "      <th>lon_135_140E</th>\n",
       "      <th>lon_140_145E</th>\n",
       "      <th>lon_145_150E</th>\n",
       "      <th>lon_150_155E</th>\n",
       "      <th>lon_155_160E</th>\n",
       "      <th>lon_160_165E</th>\n",
       "      <th>lon_165_170E</th>\n",
       "      <th>lon_170_175E</th>\n",
       "      <th>lon_175_180E</th>\n",
       "    </tr>\n",
       "  </thead>\n",
       "  <tbody>\n",
       "    <tr>\n",
       "      <th>0</th>\n",
       "      <td>1880</td>\n",
       "      <td>1</td>\n",
       "      <td>85-90N</td>\n",
       "      <td>-9999</td>\n",
       "      <td>-9999</td>\n",
       "      <td>-9999</td>\n",
       "      <td>-9999</td>\n",
       "      <td>-9999</td>\n",
       "      <td>-9999</td>\n",
       "      <td>-9999</td>\n",
       "      <td>...</td>\n",
       "      <td>-9999</td>\n",
       "      <td>-9999</td>\n",
       "      <td>-9999</td>\n",
       "      <td>-9999</td>\n",
       "      <td>-9999</td>\n",
       "      <td>-9999</td>\n",
       "      <td>-9999</td>\n",
       "      <td>-9999</td>\n",
       "      <td>-9999</td>\n",
       "      <td>-9999</td>\n",
       "    </tr>\n",
       "    <tr>\n",
       "      <th>1</th>\n",
       "      <td>1880</td>\n",
       "      <td>1</td>\n",
       "      <td>80-85N</td>\n",
       "      <td>-9999</td>\n",
       "      <td>-9999</td>\n",
       "      <td>-9999</td>\n",
       "      <td>-9999</td>\n",
       "      <td>-9999</td>\n",
       "      <td>-9999</td>\n",
       "      <td>-9999</td>\n",
       "      <td>...</td>\n",
       "      <td>-9999</td>\n",
       "      <td>-9999</td>\n",
       "      <td>-9999</td>\n",
       "      <td>-9999</td>\n",
       "      <td>-9999</td>\n",
       "      <td>-9999</td>\n",
       "      <td>-9999</td>\n",
       "      <td>-9999</td>\n",
       "      <td>-9999</td>\n",
       "      <td>-9999</td>\n",
       "    </tr>\n",
       "    <tr>\n",
       "      <th>2</th>\n",
       "      <td>1880</td>\n",
       "      <td>1</td>\n",
       "      <td>75-80N</td>\n",
       "      <td>-9999</td>\n",
       "      <td>-9999</td>\n",
       "      <td>-9999</td>\n",
       "      <td>-9999</td>\n",
       "      <td>-9999</td>\n",
       "      <td>-9999</td>\n",
       "      <td>-9999</td>\n",
       "      <td>...</td>\n",
       "      <td>-9999</td>\n",
       "      <td>-9999</td>\n",
       "      <td>-9999</td>\n",
       "      <td>-9999</td>\n",
       "      <td>-9999</td>\n",
       "      <td>-9999</td>\n",
       "      <td>-9999</td>\n",
       "      <td>-9999</td>\n",
       "      <td>-9999</td>\n",
       "      <td>-9999</td>\n",
       "    </tr>\n",
       "    <tr>\n",
       "      <th>3</th>\n",
       "      <td>1880</td>\n",
       "      <td>1</td>\n",
       "      <td>70-75N</td>\n",
       "      <td>-9999</td>\n",
       "      <td>-9999</td>\n",
       "      <td>-9999</td>\n",
       "      <td>-9999</td>\n",
       "      <td>-9999</td>\n",
       "      <td>-9999</td>\n",
       "      <td>-9999</td>\n",
       "      <td>...</td>\n",
       "      <td>-9999</td>\n",
       "      <td>-9999</td>\n",
       "      <td>-9999</td>\n",
       "      <td>-9999</td>\n",
       "      <td>-9999</td>\n",
       "      <td>-9999</td>\n",
       "      <td>-9999</td>\n",
       "      <td>-9999</td>\n",
       "      <td>-9999</td>\n",
       "      <td>-9999</td>\n",
       "    </tr>\n",
       "    <tr>\n",
       "      <th>4</th>\n",
       "      <td>1880</td>\n",
       "      <td>1</td>\n",
       "      <td>65-70N</td>\n",
       "      <td>-9999</td>\n",
       "      <td>-9999</td>\n",
       "      <td>-9999</td>\n",
       "      <td>-9999</td>\n",
       "      <td>-9999</td>\n",
       "      <td>-9999</td>\n",
       "      <td>-9999</td>\n",
       "      <td>...</td>\n",
       "      <td>-9999</td>\n",
       "      <td>-9999</td>\n",
       "      <td>-9999</td>\n",
       "      <td>-9999</td>\n",
       "      <td>-9999</td>\n",
       "      <td>-9999</td>\n",
       "      <td>-9999</td>\n",
       "      <td>-9999</td>\n",
       "      <td>-9999</td>\n",
       "      <td>-9999</td>\n",
       "    </tr>\n",
       "    <tr>\n",
       "      <th>...</th>\n",
       "      <td>...</td>\n",
       "      <td>...</td>\n",
       "      <td>...</td>\n",
       "      <td>...</td>\n",
       "      <td>...</td>\n",
       "      <td>...</td>\n",
       "      <td>...</td>\n",
       "      <td>...</td>\n",
       "      <td>...</td>\n",
       "      <td>...</td>\n",
       "      <td>...</td>\n",
       "      <td>...</td>\n",
       "      <td>...</td>\n",
       "      <td>...</td>\n",
       "      <td>...</td>\n",
       "      <td>...</td>\n",
       "      <td>...</td>\n",
       "      <td>...</td>\n",
       "      <td>...</td>\n",
       "      <td>...</td>\n",
       "      <td>...</td>\n",
       "    </tr>\n",
       "    <tr>\n",
       "      <th>59218</th>\n",
       "      <td>2016</td>\n",
       "      <td>12</td>\n",
       "      <td>65-70S</td>\n",
       "      <td>-9999</td>\n",
       "      <td>-9999</td>\n",
       "      <td>-9999</td>\n",
       "      <td>-9999</td>\n",
       "      <td>-9999</td>\n",
       "      <td>-9999</td>\n",
       "      <td>-9999</td>\n",
       "      <td>...</td>\n",
       "      <td>-9999</td>\n",
       "      <td>-9999</td>\n",
       "      <td>-9999</td>\n",
       "      <td>-9999</td>\n",
       "      <td>-9999</td>\n",
       "      <td>-9999</td>\n",
       "      <td>-9999</td>\n",
       "      <td>-9999</td>\n",
       "      <td>-9999</td>\n",
       "      <td>-9999</td>\n",
       "    </tr>\n",
       "    <tr>\n",
       "      <th>59219</th>\n",
       "      <td>2016</td>\n",
       "      <td>12</td>\n",
       "      <td>70-75S</td>\n",
       "      <td>-9999</td>\n",
       "      <td>-9999</td>\n",
       "      <td>-9999</td>\n",
       "      <td>-9999</td>\n",
       "      <td>-9999</td>\n",
       "      <td>-9999</td>\n",
       "      <td>-9999</td>\n",
       "      <td>...</td>\n",
       "      <td>-9999</td>\n",
       "      <td>-9999</td>\n",
       "      <td>-9999</td>\n",
       "      <td>-9999</td>\n",
       "      <td>-9999</td>\n",
       "      <td>-9999</td>\n",
       "      <td>-9999</td>\n",
       "      <td>-9999</td>\n",
       "      <td>-9999</td>\n",
       "      <td>-9999</td>\n",
       "    </tr>\n",
       "    <tr>\n",
       "      <th>59220</th>\n",
       "      <td>2016</td>\n",
       "      <td>12</td>\n",
       "      <td>75-80S</td>\n",
       "      <td>-9999</td>\n",
       "      <td>-9999</td>\n",
       "      <td>-9999</td>\n",
       "      <td>-9999</td>\n",
       "      <td>-9999</td>\n",
       "      <td>-9999</td>\n",
       "      <td>-9999</td>\n",
       "      <td>...</td>\n",
       "      <td>-9999</td>\n",
       "      <td>-9999</td>\n",
       "      <td>-9999</td>\n",
       "      <td>-9999</td>\n",
       "      <td>-9999</td>\n",
       "      <td>-9999</td>\n",
       "      <td>-9999</td>\n",
       "      <td>-9999</td>\n",
       "      <td>-9999</td>\n",
       "      <td>-9999</td>\n",
       "    </tr>\n",
       "    <tr>\n",
       "      <th>59221</th>\n",
       "      <td>2016</td>\n",
       "      <td>12</td>\n",
       "      <td>80-85S</td>\n",
       "      <td>-9999</td>\n",
       "      <td>-9999</td>\n",
       "      <td>-9999</td>\n",
       "      <td>-9999</td>\n",
       "      <td>-9999</td>\n",
       "      <td>-9999</td>\n",
       "      <td>-9999</td>\n",
       "      <td>...</td>\n",
       "      <td>-9999</td>\n",
       "      <td>-9999</td>\n",
       "      <td>-9999</td>\n",
       "      <td>-9999</td>\n",
       "      <td>-9999</td>\n",
       "      <td>-9999</td>\n",
       "      <td>-9999</td>\n",
       "      <td>-9999</td>\n",
       "      <td>-9999</td>\n",
       "      <td>-9999</td>\n",
       "    </tr>\n",
       "    <tr>\n",
       "      <th>59222</th>\n",
       "      <td>2016</td>\n",
       "      <td>12</td>\n",
       "      <td>85-90S</td>\n",
       "      <td>-9999</td>\n",
       "      <td>-9999</td>\n",
       "      <td>-9999</td>\n",
       "      <td>-9999</td>\n",
       "      <td>-9999</td>\n",
       "      <td>-9999</td>\n",
       "      <td>-9999</td>\n",
       "      <td>...</td>\n",
       "      <td>-9999</td>\n",
       "      <td>-9999</td>\n",
       "      <td>-9999</td>\n",
       "      <td>-9999</td>\n",
       "      <td>-9999</td>\n",
       "      <td>-9999</td>\n",
       "      <td>-9999</td>\n",
       "      <td>-9999</td>\n",
       "      <td>-9999</td>\n",
       "      <td>-9999</td>\n",
       "    </tr>\n",
       "  </tbody>\n",
       "</table>\n",
       "<p>59223 rows × 75 columns</p>\n",
       "</div>"
      ],
      "text/plain": [
       "       year  month     lat  lon_175_180W  lon_170_175W  lon_165_170W  \\\n",
       "0      1880      1  85-90N         -9999         -9999         -9999   \n",
       "1      1880      1  80-85N         -9999         -9999         -9999   \n",
       "2      1880      1  75-80N         -9999         -9999         -9999   \n",
       "3      1880      1  70-75N         -9999         -9999         -9999   \n",
       "4      1880      1  65-70N         -9999         -9999         -9999   \n",
       "...     ...    ...     ...           ...           ...           ...   \n",
       "59218  2016     12  65-70S         -9999         -9999         -9999   \n",
       "59219  2016     12  70-75S         -9999         -9999         -9999   \n",
       "59220  2016     12  75-80S         -9999         -9999         -9999   \n",
       "59221  2016     12  80-85S         -9999         -9999         -9999   \n",
       "59222  2016     12  85-90S         -9999         -9999         -9999   \n",
       "\n",
       "       lon_160_165W  lon_155_160W  lon_150_155W  lon_145_150W  ...  \\\n",
       "0             -9999         -9999         -9999         -9999  ...   \n",
       "1             -9999         -9999         -9999         -9999  ...   \n",
       "2             -9999         -9999         -9999         -9999  ...   \n",
       "3             -9999         -9999         -9999         -9999  ...   \n",
       "4             -9999         -9999         -9999         -9999  ...   \n",
       "...             ...           ...           ...           ...  ...   \n",
       "59218         -9999         -9999         -9999         -9999  ...   \n",
       "59219         -9999         -9999         -9999         -9999  ...   \n",
       "59220         -9999         -9999         -9999         -9999  ...   \n",
       "59221         -9999         -9999         -9999         -9999  ...   \n",
       "59222         -9999         -9999         -9999         -9999  ...   \n",
       "\n",
       "       lon_130_135E  lon_135_140E  lon_140_145E  lon_145_150E  lon_150_155E  \\\n",
       "0             -9999         -9999         -9999         -9999         -9999   \n",
       "1             -9999         -9999         -9999         -9999         -9999   \n",
       "2             -9999         -9999         -9999         -9999         -9999   \n",
       "3             -9999         -9999         -9999         -9999         -9999   \n",
       "4             -9999         -9999         -9999         -9999         -9999   \n",
       "...             ...           ...           ...           ...           ...   \n",
       "59218         -9999         -9999         -9999         -9999         -9999   \n",
       "59219         -9999         -9999         -9999         -9999         -9999   \n",
       "59220         -9999         -9999         -9999         -9999         -9999   \n",
       "59221         -9999         -9999         -9999         -9999         -9999   \n",
       "59222         -9999         -9999         -9999         -9999         -9999   \n",
       "\n",
       "       lon_155_160E  lon_160_165E  lon_165_170E  lon_170_175E  lon_175_180E  \n",
       "0             -9999         -9999         -9999         -9999         -9999  \n",
       "1             -9999         -9999         -9999         -9999         -9999  \n",
       "2             -9999         -9999         -9999         -9999         -9999  \n",
       "3             -9999         -9999         -9999         -9999         -9999  \n",
       "4             -9999         -9999         -9999         -9999         -9999  \n",
       "...             ...           ...           ...           ...           ...  \n",
       "59218         -9999         -9999         -9999         -9999         -9999  \n",
       "59219         -9999         -9999         -9999         -9999         -9999  \n",
       "59220         -9999         -9999         -9999         -9999         -9999  \n",
       "59221         -9999         -9999         -9999         -9999         -9999  \n",
       "59222         -9999         -9999         -9999         -9999         -9999  \n",
       "\n",
       "[59223 rows x 75 columns]"
      ]
     },
     "execution_count": 6,
     "metadata": {},
     "output_type": "execute_result"
    }
   ],
   "source": [
    "df = pd.read_csv(\"Dados/ghcn-m-v1.csv\")\n",
    "df"
   ]
  },
  {
   "cell_type": "code",
   "execution_count": 7,
   "metadata": {},
   "outputs": [
    {
     "data": {
      "text/html": [
       "<div>\n",
       "<style scoped>\n",
       "    .dataframe tbody tr th:only-of-type {\n",
       "        vertical-align: middle;\n",
       "    }\n",
       "\n",
       "    .dataframe tbody tr th {\n",
       "        vertical-align: top;\n",
       "    }\n",
       "\n",
       "    .dataframe thead th {\n",
       "        text-align: right;\n",
       "    }\n",
       "</style>\n",
       "<table border=\"1\" class=\"dataframe\">\n",
       "  <thead>\n",
       "    <tr style=\"text-align: right;\">\n",
       "      <th></th>\n",
       "      <th>year</th>\n",
       "      <th>month</th>\n",
       "      <th>lat</th>\n",
       "      <th>lon_175_180W</th>\n",
       "      <th>lon_170_175W</th>\n",
       "      <th>lon_165_170W</th>\n",
       "      <th>lon_160_165W</th>\n",
       "      <th>lon_155_160W</th>\n",
       "      <th>lon_150_155W</th>\n",
       "      <th>lon_145_150W</th>\n",
       "      <th>...</th>\n",
       "      <th>lon_130_135E</th>\n",
       "      <th>lon_135_140E</th>\n",
       "      <th>lon_140_145E</th>\n",
       "      <th>lon_145_150E</th>\n",
       "      <th>lon_150_155E</th>\n",
       "      <th>lon_155_160E</th>\n",
       "      <th>lon_160_165E</th>\n",
       "      <th>lon_165_170E</th>\n",
       "      <th>lon_170_175E</th>\n",
       "      <th>lon_175_180E</th>\n",
       "    </tr>\n",
       "  </thead>\n",
       "  <tbody>\n",
       "    <tr>\n",
       "      <th>0</th>\n",
       "      <td>1880</td>\n",
       "      <td>1</td>\n",
       "      <td>85-90N</td>\n",
       "      <td>-9999</td>\n",
       "      <td>-9999</td>\n",
       "      <td>-9999</td>\n",
       "      <td>-9999</td>\n",
       "      <td>-9999</td>\n",
       "      <td>-9999</td>\n",
       "      <td>-9999</td>\n",
       "      <td>...</td>\n",
       "      <td>-9999</td>\n",
       "      <td>-9999</td>\n",
       "      <td>-9999</td>\n",
       "      <td>-9999</td>\n",
       "      <td>-9999</td>\n",
       "      <td>-9999</td>\n",
       "      <td>-9999</td>\n",
       "      <td>-9999</td>\n",
       "      <td>-9999</td>\n",
       "      <td>-9999</td>\n",
       "    </tr>\n",
       "    <tr>\n",
       "      <th>1</th>\n",
       "      <td>1880</td>\n",
       "      <td>1</td>\n",
       "      <td>80-85N</td>\n",
       "      <td>-9999</td>\n",
       "      <td>-9999</td>\n",
       "      <td>-9999</td>\n",
       "      <td>-9999</td>\n",
       "      <td>-9999</td>\n",
       "      <td>-9999</td>\n",
       "      <td>-9999</td>\n",
       "      <td>...</td>\n",
       "      <td>-9999</td>\n",
       "      <td>-9999</td>\n",
       "      <td>-9999</td>\n",
       "      <td>-9999</td>\n",
       "      <td>-9999</td>\n",
       "      <td>-9999</td>\n",
       "      <td>-9999</td>\n",
       "      <td>-9999</td>\n",
       "      <td>-9999</td>\n",
       "      <td>-9999</td>\n",
       "    </tr>\n",
       "    <tr>\n",
       "      <th>2</th>\n",
       "      <td>1880</td>\n",
       "      <td>1</td>\n",
       "      <td>75-80N</td>\n",
       "      <td>-9999</td>\n",
       "      <td>-9999</td>\n",
       "      <td>-9999</td>\n",
       "      <td>-9999</td>\n",
       "      <td>-9999</td>\n",
       "      <td>-9999</td>\n",
       "      <td>-9999</td>\n",
       "      <td>...</td>\n",
       "      <td>-9999</td>\n",
       "      <td>-9999</td>\n",
       "      <td>-9999</td>\n",
       "      <td>-9999</td>\n",
       "      <td>-9999</td>\n",
       "      <td>-9999</td>\n",
       "      <td>-9999</td>\n",
       "      <td>-9999</td>\n",
       "      <td>-9999</td>\n",
       "      <td>-9999</td>\n",
       "    </tr>\n",
       "    <tr>\n",
       "      <th>3</th>\n",
       "      <td>1880</td>\n",
       "      <td>1</td>\n",
       "      <td>70-75N</td>\n",
       "      <td>-9999</td>\n",
       "      <td>-9999</td>\n",
       "      <td>-9999</td>\n",
       "      <td>-9999</td>\n",
       "      <td>-9999</td>\n",
       "      <td>-9999</td>\n",
       "      <td>-9999</td>\n",
       "      <td>...</td>\n",
       "      <td>-9999</td>\n",
       "      <td>-9999</td>\n",
       "      <td>-9999</td>\n",
       "      <td>-9999</td>\n",
       "      <td>-9999</td>\n",
       "      <td>-9999</td>\n",
       "      <td>-9999</td>\n",
       "      <td>-9999</td>\n",
       "      <td>-9999</td>\n",
       "      <td>-9999</td>\n",
       "    </tr>\n",
       "    <tr>\n",
       "      <th>4</th>\n",
       "      <td>1880</td>\n",
       "      <td>1</td>\n",
       "      <td>65-70N</td>\n",
       "      <td>-9999</td>\n",
       "      <td>-9999</td>\n",
       "      <td>-9999</td>\n",
       "      <td>-9999</td>\n",
       "      <td>-9999</td>\n",
       "      <td>-9999</td>\n",
       "      <td>-9999</td>\n",
       "      <td>...</td>\n",
       "      <td>-9999</td>\n",
       "      <td>-9999</td>\n",
       "      <td>-9999</td>\n",
       "      <td>-9999</td>\n",
       "      <td>-9999</td>\n",
       "      <td>-9999</td>\n",
       "      <td>-9999</td>\n",
       "      <td>-9999</td>\n",
       "      <td>-9999</td>\n",
       "      <td>-9999</td>\n",
       "    </tr>\n",
       "  </tbody>\n",
       "</table>\n",
       "<p>5 rows × 75 columns</p>\n",
       "</div>"
      ],
      "text/plain": [
       "   year  month     lat  lon_175_180W  lon_170_175W  lon_165_170W  \\\n",
       "0  1880      1  85-90N         -9999         -9999         -9999   \n",
       "1  1880      1  80-85N         -9999         -9999         -9999   \n",
       "2  1880      1  75-80N         -9999         -9999         -9999   \n",
       "3  1880      1  70-75N         -9999         -9999         -9999   \n",
       "4  1880      1  65-70N         -9999         -9999         -9999   \n",
       "\n",
       "   lon_160_165W  lon_155_160W  lon_150_155W  lon_145_150W  ...  lon_130_135E  \\\n",
       "0         -9999         -9999         -9999         -9999  ...         -9999   \n",
       "1         -9999         -9999         -9999         -9999  ...         -9999   \n",
       "2         -9999         -9999         -9999         -9999  ...         -9999   \n",
       "3         -9999         -9999         -9999         -9999  ...         -9999   \n",
       "4         -9999         -9999         -9999         -9999  ...         -9999   \n",
       "\n",
       "   lon_135_140E  lon_140_145E  lon_145_150E  lon_150_155E  lon_155_160E  \\\n",
       "0         -9999         -9999         -9999         -9999         -9999   \n",
       "1         -9999         -9999         -9999         -9999         -9999   \n",
       "2         -9999         -9999         -9999         -9999         -9999   \n",
       "3         -9999         -9999         -9999         -9999         -9999   \n",
       "4         -9999         -9999         -9999         -9999         -9999   \n",
       "\n",
       "   lon_160_165E  lon_165_170E  lon_170_175E  lon_175_180E  \n",
       "0         -9999         -9999         -9999         -9999  \n",
       "1         -9999         -9999         -9999         -9999  \n",
       "2         -9999         -9999         -9999         -9999  \n",
       "3         -9999         -9999         -9999         -9999  \n",
       "4         -9999         -9999         -9999         -9999  \n",
       "\n",
       "[5 rows x 75 columns]"
      ]
     },
     "execution_count": 7,
     "metadata": {},
     "output_type": "execute_result"
    }
   ],
   "source": [
    "df.head()"
   ]
  },
  {
   "cell_type": "code",
   "execution_count": 8,
   "metadata": {},
   "outputs": [
    {
     "data": {
      "text/html": [
       "<div>\n",
       "<style scoped>\n",
       "    .dataframe tbody tr th:only-of-type {\n",
       "        vertical-align: middle;\n",
       "    }\n",
       "\n",
       "    .dataframe tbody tr th {\n",
       "        vertical-align: top;\n",
       "    }\n",
       "\n",
       "    .dataframe thead th {\n",
       "        text-align: right;\n",
       "    }\n",
       "</style>\n",
       "<table border=\"1\" class=\"dataframe\">\n",
       "  <thead>\n",
       "    <tr style=\"text-align: right;\">\n",
       "      <th></th>\n",
       "      <th>year</th>\n",
       "      <th>month</th>\n",
       "      <th>lat</th>\n",
       "      <th>lon_175_180W</th>\n",
       "      <th>lon_170_175W</th>\n",
       "      <th>lon_165_170W</th>\n",
       "      <th>lon_160_165W</th>\n",
       "      <th>lon_155_160W</th>\n",
       "      <th>lon_150_155W</th>\n",
       "      <th>lon_145_150W</th>\n",
       "      <th>...</th>\n",
       "      <th>lon_130_135E</th>\n",
       "      <th>lon_135_140E</th>\n",
       "      <th>lon_140_145E</th>\n",
       "      <th>lon_145_150E</th>\n",
       "      <th>lon_150_155E</th>\n",
       "      <th>lon_155_160E</th>\n",
       "      <th>lon_160_165E</th>\n",
       "      <th>lon_165_170E</th>\n",
       "      <th>lon_170_175E</th>\n",
       "      <th>lon_175_180E</th>\n",
       "    </tr>\n",
       "  </thead>\n",
       "  <tbody>\n",
       "    <tr>\n",
       "      <th>59218</th>\n",
       "      <td>2016</td>\n",
       "      <td>12</td>\n",
       "      <td>65-70S</td>\n",
       "      <td>-9999</td>\n",
       "      <td>-9999</td>\n",
       "      <td>-9999</td>\n",
       "      <td>-9999</td>\n",
       "      <td>-9999</td>\n",
       "      <td>-9999</td>\n",
       "      <td>-9999</td>\n",
       "      <td>...</td>\n",
       "      <td>-9999</td>\n",
       "      <td>-9999</td>\n",
       "      <td>-9999</td>\n",
       "      <td>-9999</td>\n",
       "      <td>-9999</td>\n",
       "      <td>-9999</td>\n",
       "      <td>-9999</td>\n",
       "      <td>-9999</td>\n",
       "      <td>-9999</td>\n",
       "      <td>-9999</td>\n",
       "    </tr>\n",
       "    <tr>\n",
       "      <th>59219</th>\n",
       "      <td>2016</td>\n",
       "      <td>12</td>\n",
       "      <td>70-75S</td>\n",
       "      <td>-9999</td>\n",
       "      <td>-9999</td>\n",
       "      <td>-9999</td>\n",
       "      <td>-9999</td>\n",
       "      <td>-9999</td>\n",
       "      <td>-9999</td>\n",
       "      <td>-9999</td>\n",
       "      <td>...</td>\n",
       "      <td>-9999</td>\n",
       "      <td>-9999</td>\n",
       "      <td>-9999</td>\n",
       "      <td>-9999</td>\n",
       "      <td>-9999</td>\n",
       "      <td>-9999</td>\n",
       "      <td>-9999</td>\n",
       "      <td>-9999</td>\n",
       "      <td>-9999</td>\n",
       "      <td>-9999</td>\n",
       "    </tr>\n",
       "    <tr>\n",
       "      <th>59220</th>\n",
       "      <td>2016</td>\n",
       "      <td>12</td>\n",
       "      <td>75-80S</td>\n",
       "      <td>-9999</td>\n",
       "      <td>-9999</td>\n",
       "      <td>-9999</td>\n",
       "      <td>-9999</td>\n",
       "      <td>-9999</td>\n",
       "      <td>-9999</td>\n",
       "      <td>-9999</td>\n",
       "      <td>...</td>\n",
       "      <td>-9999</td>\n",
       "      <td>-9999</td>\n",
       "      <td>-9999</td>\n",
       "      <td>-9999</td>\n",
       "      <td>-9999</td>\n",
       "      <td>-9999</td>\n",
       "      <td>-9999</td>\n",
       "      <td>-9999</td>\n",
       "      <td>-9999</td>\n",
       "      <td>-9999</td>\n",
       "    </tr>\n",
       "    <tr>\n",
       "      <th>59221</th>\n",
       "      <td>2016</td>\n",
       "      <td>12</td>\n",
       "      <td>80-85S</td>\n",
       "      <td>-9999</td>\n",
       "      <td>-9999</td>\n",
       "      <td>-9999</td>\n",
       "      <td>-9999</td>\n",
       "      <td>-9999</td>\n",
       "      <td>-9999</td>\n",
       "      <td>-9999</td>\n",
       "      <td>...</td>\n",
       "      <td>-9999</td>\n",
       "      <td>-9999</td>\n",
       "      <td>-9999</td>\n",
       "      <td>-9999</td>\n",
       "      <td>-9999</td>\n",
       "      <td>-9999</td>\n",
       "      <td>-9999</td>\n",
       "      <td>-9999</td>\n",
       "      <td>-9999</td>\n",
       "      <td>-9999</td>\n",
       "    </tr>\n",
       "    <tr>\n",
       "      <th>59222</th>\n",
       "      <td>2016</td>\n",
       "      <td>12</td>\n",
       "      <td>85-90S</td>\n",
       "      <td>-9999</td>\n",
       "      <td>-9999</td>\n",
       "      <td>-9999</td>\n",
       "      <td>-9999</td>\n",
       "      <td>-9999</td>\n",
       "      <td>-9999</td>\n",
       "      <td>-9999</td>\n",
       "      <td>...</td>\n",
       "      <td>-9999</td>\n",
       "      <td>-9999</td>\n",
       "      <td>-9999</td>\n",
       "      <td>-9999</td>\n",
       "      <td>-9999</td>\n",
       "      <td>-9999</td>\n",
       "      <td>-9999</td>\n",
       "      <td>-9999</td>\n",
       "      <td>-9999</td>\n",
       "      <td>-9999</td>\n",
       "    </tr>\n",
       "  </tbody>\n",
       "</table>\n",
       "<p>5 rows × 75 columns</p>\n",
       "</div>"
      ],
      "text/plain": [
       "       year  month     lat  lon_175_180W  lon_170_175W  lon_165_170W  \\\n",
       "59218  2016     12  65-70S         -9999         -9999         -9999   \n",
       "59219  2016     12  70-75S         -9999         -9999         -9999   \n",
       "59220  2016     12  75-80S         -9999         -9999         -9999   \n",
       "59221  2016     12  80-85S         -9999         -9999         -9999   \n",
       "59222  2016     12  85-90S         -9999         -9999         -9999   \n",
       "\n",
       "       lon_160_165W  lon_155_160W  lon_150_155W  lon_145_150W  ...  \\\n",
       "59218         -9999         -9999         -9999         -9999  ...   \n",
       "59219         -9999         -9999         -9999         -9999  ...   \n",
       "59220         -9999         -9999         -9999         -9999  ...   \n",
       "59221         -9999         -9999         -9999         -9999  ...   \n",
       "59222         -9999         -9999         -9999         -9999  ...   \n",
       "\n",
       "       lon_130_135E  lon_135_140E  lon_140_145E  lon_145_150E  lon_150_155E  \\\n",
       "59218         -9999         -9999         -9999         -9999         -9999   \n",
       "59219         -9999         -9999         -9999         -9999         -9999   \n",
       "59220         -9999         -9999         -9999         -9999         -9999   \n",
       "59221         -9999         -9999         -9999         -9999         -9999   \n",
       "59222         -9999         -9999         -9999         -9999         -9999   \n",
       "\n",
       "       lon_155_160E  lon_160_165E  lon_165_170E  lon_170_175E  lon_175_180E  \n",
       "59218         -9999         -9999         -9999         -9999         -9999  \n",
       "59219         -9999         -9999         -9999         -9999         -9999  \n",
       "59220         -9999         -9999         -9999         -9999         -9999  \n",
       "59221         -9999         -9999         -9999         -9999         -9999  \n",
       "59222         -9999         -9999         -9999         -9999         -9999  \n",
       "\n",
       "[5 rows x 75 columns]"
      ]
     },
     "execution_count": 8,
     "metadata": {},
     "output_type": "execute_result"
    }
   ],
   "source": [
    "df.tail()"
   ]
  },
  {
   "cell_type": "code",
   "execution_count": 9,
   "metadata": {},
   "outputs": [
    {
     "data": {
      "text/plain": [
       "(59223, 75)"
      ]
     },
     "execution_count": 9,
     "metadata": {},
     "output_type": "execute_result"
    }
   ],
   "source": [
    "df.shape"
   ]
  },
  {
   "cell_type": "code",
   "execution_count": 10,
   "metadata": {},
   "outputs": [
    {
     "name": "stdout",
     "output_type": "stream",
     "text": [
      "<class 'pandas.core.frame.DataFrame'>\n",
      "RangeIndex: 59223 entries, 0 to 59222\n",
      "Data columns (total 75 columns):\n",
      " #   Column        Non-Null Count  Dtype \n",
      "---  ------        --------------  ----- \n",
      " 0   year          59223 non-null  int64 \n",
      " 1   month         59223 non-null  int64 \n",
      " 2   lat           59223 non-null  object\n",
      " 3   lon_175_180W  59223 non-null  int64 \n",
      " 4   lon_170_175W  59223 non-null  int64 \n",
      " 5   lon_165_170W  59223 non-null  int64 \n",
      " 6   lon_160_165W  59223 non-null  int64 \n",
      " 7   lon_155_160W  59223 non-null  int64 \n",
      " 8   lon_150_155W  59223 non-null  int64 \n",
      " 9   lon_145_150W  59223 non-null  int64 \n",
      " 10  lon_140_145W  59223 non-null  int64 \n",
      " 11  lon_135_140W  59223 non-null  int64 \n",
      " 12  lon_130_135W  59223 non-null  int64 \n",
      " 13  lon_125_130W  59223 non-null  int64 \n",
      " 14  lon_120_125W  59223 non-null  int64 \n",
      " 15  lon_115_120W  59223 non-null  int64 \n",
      " 16  lon_110_115W  59223 non-null  int64 \n",
      " 17  lon_105_110W  59223 non-null  int64 \n",
      " 18  lon_100_105W  59223 non-null  int64 \n",
      " 19  lon_95_100W   59223 non-null  int64 \n",
      " 20  lon_90_95W    59223 non-null  int64 \n",
      " 21  lon_85_90W    59223 non-null  int64 \n",
      " 22  lon_80_85W    59223 non-null  int64 \n",
      " 23  lon_75_80W    59223 non-null  int64 \n",
      " 24  lon_70_75W    59223 non-null  int64 \n",
      " 25  lon_65_70W    59223 non-null  int64 \n",
      " 26  lon_60_65W    59223 non-null  int64 \n",
      " 27  lon_55_60W    59223 non-null  int64 \n",
      " 28  lon_50_55W    59223 non-null  int64 \n",
      " 29  lon_45_50W    59223 non-null  int64 \n",
      " 30  lon_40_45W    59223 non-null  int64 \n",
      " 31  lon_35_40W    59223 non-null  int64 \n",
      " 32  lon_30_35W    59223 non-null  int64 \n",
      " 33  lon_25_30W    59223 non-null  int64 \n",
      " 34  lon_20_25W    59223 non-null  int64 \n",
      " 35  lon_15_20W    59223 non-null  int64 \n",
      " 36  lon_10_15W    59223 non-null  int64 \n",
      " 37  lon_5_10W     59223 non-null  int64 \n",
      " 38  lon_0_5W      59223 non-null  int64 \n",
      " 39  lon_0_5E      59223 non-null  int64 \n",
      " 40  lon_5_10E     59223 non-null  int64 \n",
      " 41  lon_10_15E    59223 non-null  int64 \n",
      " 42  lon_15_20E    59223 non-null  int64 \n",
      " 43  lon_20_25E    59223 non-null  int64 \n",
      " 44  lon_25_30E    59223 non-null  int64 \n",
      " 45  lon_30_35E    59223 non-null  int64 \n",
      " 46  lon_35_40E    59223 non-null  int64 \n",
      " 47  lon_40_45E    59223 non-null  int64 \n",
      " 48  lon_45_50E    59223 non-null  int64 \n",
      " 49  lon_50_55E    59223 non-null  int64 \n",
      " 50  lon_55_60E    59223 non-null  int64 \n",
      " 51  lon_60_65E    59223 non-null  int64 \n",
      " 52  lon_65_70E    59223 non-null  int64 \n",
      " 53  lon_70_75E    59223 non-null  int64 \n",
      " 54  lon_75_80E    59223 non-null  int64 \n",
      " 55  lon_80_85E    59223 non-null  int64 \n",
      " 56  lon_85_90E    59223 non-null  int64 \n",
      " 57  lon_90_95E    59223 non-null  int64 \n",
      " 58  lon_95_100E   59223 non-null  int64 \n",
      " 59  lon_100_105E  59223 non-null  int64 \n",
      " 60  lon_105_110E  59223 non-null  int64 \n",
      " 61  lon_110_115E  59223 non-null  int64 \n",
      " 62  lon_115_120E  59223 non-null  int64 \n",
      " 63  lon_120_125E  59223 non-null  int64 \n",
      " 64  lon_125_130E  59223 non-null  int64 \n",
      " 65  lon_130_135E  59223 non-null  int64 \n",
      " 66  lon_135_140E  59223 non-null  int64 \n",
      " 67  lon_140_145E  59223 non-null  int64 \n",
      " 68  lon_145_150E  59223 non-null  int64 \n",
      " 69  lon_150_155E  59223 non-null  int64 \n",
      " 70  lon_155_160E  59223 non-null  int64 \n",
      " 71  lon_160_165E  59223 non-null  int64 \n",
      " 72  lon_165_170E  59223 non-null  int64 \n",
      " 73  lon_170_175E  59223 non-null  int64 \n",
      " 74  lon_175_180E  59223 non-null  int64 \n",
      "dtypes: int64(74), object(1)\n",
      "memory usage: 33.9+ MB\n"
     ]
    }
   ],
   "source": [
    "df.info()"
   ]
  },
  {
   "cell_type": "code",
   "execution_count": 11,
   "metadata": {},
   "outputs": [
    {
     "data": {
      "text/plain": [
       "year            0\n",
       "month           0\n",
       "lat             0\n",
       "lon_175_180W    0\n",
       "lon_170_175W    0\n",
       "               ..\n",
       "lon_155_160E    0\n",
       "lon_160_165E    0\n",
       "lon_165_170E    0\n",
       "lon_170_175E    0\n",
       "lon_175_180E    0\n",
       "Length: 75, dtype: int64"
      ]
     },
     "execution_count": 11,
     "metadata": {},
     "output_type": "execute_result"
    }
   ],
   "source": [
    "df.isna().sum()"
   ]
  },
  {
   "cell_type": "code",
   "execution_count": 12,
   "metadata": {},
   "outputs": [
    {
     "data": {
      "text/html": [
       "<div>\n",
       "<style scoped>\n",
       "    .dataframe tbody tr th:only-of-type {\n",
       "        vertical-align: middle;\n",
       "    }\n",
       "\n",
       "    .dataframe tbody tr th {\n",
       "        vertical-align: top;\n",
       "    }\n",
       "\n",
       "    .dataframe thead th {\n",
       "        text-align: right;\n",
       "    }\n",
       "</style>\n",
       "<table border=\"1\" class=\"dataframe\">\n",
       "  <thead>\n",
       "    <tr style=\"text-align: right;\">\n",
       "      <th></th>\n",
       "      <th>year</th>\n",
       "      <th>month</th>\n",
       "      <th>lat</th>\n",
       "      <th>lon_175_180W</th>\n",
       "      <th>lon_170_175W</th>\n",
       "      <th>lon_165_170W</th>\n",
       "      <th>lon_160_165W</th>\n",
       "      <th>lon_155_160W</th>\n",
       "      <th>lon_150_155W</th>\n",
       "      <th>lon_145_150W</th>\n",
       "      <th>...</th>\n",
       "      <th>lon_130_135E</th>\n",
       "      <th>lon_135_140E</th>\n",
       "      <th>lon_140_145E</th>\n",
       "      <th>lon_145_150E</th>\n",
       "      <th>lon_150_155E</th>\n",
       "      <th>lon_155_160E</th>\n",
       "      <th>lon_160_165E</th>\n",
       "      <th>lon_165_170E</th>\n",
       "      <th>lon_170_175E</th>\n",
       "      <th>lon_175_180E</th>\n",
       "    </tr>\n",
       "  </thead>\n",
       "  <tbody>\n",
       "    <tr>\n",
       "      <th>0</th>\n",
       "      <td>1880</td>\n",
       "      <td>1</td>\n",
       "      <td>85-90N</td>\n",
       "      <td>-9999</td>\n",
       "      <td>-9999</td>\n",
       "      <td>-9999</td>\n",
       "      <td>-9999</td>\n",
       "      <td>-9999</td>\n",
       "      <td>-9999</td>\n",
       "      <td>-9999</td>\n",
       "      <td>...</td>\n",
       "      <td>-9999</td>\n",
       "      <td>-9999</td>\n",
       "      <td>-9999</td>\n",
       "      <td>-9999</td>\n",
       "      <td>-9999</td>\n",
       "      <td>-9999</td>\n",
       "      <td>-9999</td>\n",
       "      <td>-9999</td>\n",
       "      <td>-9999</td>\n",
       "      <td>-9999</td>\n",
       "    </tr>\n",
       "    <tr>\n",
       "      <th>1</th>\n",
       "      <td>1880</td>\n",
       "      <td>1</td>\n",
       "      <td>80-85N</td>\n",
       "      <td>-9999</td>\n",
       "      <td>-9999</td>\n",
       "      <td>-9999</td>\n",
       "      <td>-9999</td>\n",
       "      <td>-9999</td>\n",
       "      <td>-9999</td>\n",
       "      <td>-9999</td>\n",
       "      <td>...</td>\n",
       "      <td>-9999</td>\n",
       "      <td>-9999</td>\n",
       "      <td>-9999</td>\n",
       "      <td>-9999</td>\n",
       "      <td>-9999</td>\n",
       "      <td>-9999</td>\n",
       "      <td>-9999</td>\n",
       "      <td>-9999</td>\n",
       "      <td>-9999</td>\n",
       "      <td>-9999</td>\n",
       "    </tr>\n",
       "    <tr>\n",
       "      <th>2</th>\n",
       "      <td>1880</td>\n",
       "      <td>1</td>\n",
       "      <td>75-80N</td>\n",
       "      <td>-9999</td>\n",
       "      <td>-9999</td>\n",
       "      <td>-9999</td>\n",
       "      <td>-9999</td>\n",
       "      <td>-9999</td>\n",
       "      <td>-9999</td>\n",
       "      <td>-9999</td>\n",
       "      <td>...</td>\n",
       "      <td>-9999</td>\n",
       "      <td>-9999</td>\n",
       "      <td>-9999</td>\n",
       "      <td>-9999</td>\n",
       "      <td>-9999</td>\n",
       "      <td>-9999</td>\n",
       "      <td>-9999</td>\n",
       "      <td>-9999</td>\n",
       "      <td>-9999</td>\n",
       "      <td>-9999</td>\n",
       "    </tr>\n",
       "    <tr>\n",
       "      <th>3</th>\n",
       "      <td>1880</td>\n",
       "      <td>1</td>\n",
       "      <td>70-75N</td>\n",
       "      <td>-9999</td>\n",
       "      <td>-9999</td>\n",
       "      <td>-9999</td>\n",
       "      <td>-9999</td>\n",
       "      <td>-9999</td>\n",
       "      <td>-9999</td>\n",
       "      <td>-9999</td>\n",
       "      <td>...</td>\n",
       "      <td>-9999</td>\n",
       "      <td>-9999</td>\n",
       "      <td>-9999</td>\n",
       "      <td>-9999</td>\n",
       "      <td>-9999</td>\n",
       "      <td>-9999</td>\n",
       "      <td>-9999</td>\n",
       "      <td>-9999</td>\n",
       "      <td>-9999</td>\n",
       "      <td>-9999</td>\n",
       "    </tr>\n",
       "    <tr>\n",
       "      <th>4</th>\n",
       "      <td>1880</td>\n",
       "      <td>1</td>\n",
       "      <td>65-70N</td>\n",
       "      <td>-9999</td>\n",
       "      <td>-9999</td>\n",
       "      <td>-9999</td>\n",
       "      <td>-9999</td>\n",
       "      <td>-9999</td>\n",
       "      <td>-9999</td>\n",
       "      <td>-9999</td>\n",
       "      <td>...</td>\n",
       "      <td>-9999</td>\n",
       "      <td>-9999</td>\n",
       "      <td>-9999</td>\n",
       "      <td>-9999</td>\n",
       "      <td>-9999</td>\n",
       "      <td>-9999</td>\n",
       "      <td>-9999</td>\n",
       "      <td>-9999</td>\n",
       "      <td>-9999</td>\n",
       "      <td>-9999</td>\n",
       "    </tr>\n",
       "    <tr>\n",
       "      <th>...</th>\n",
       "      <td>...</td>\n",
       "      <td>...</td>\n",
       "      <td>...</td>\n",
       "      <td>...</td>\n",
       "      <td>...</td>\n",
       "      <td>...</td>\n",
       "      <td>...</td>\n",
       "      <td>...</td>\n",
       "      <td>...</td>\n",
       "      <td>...</td>\n",
       "      <td>...</td>\n",
       "      <td>...</td>\n",
       "      <td>...</td>\n",
       "      <td>...</td>\n",
       "      <td>...</td>\n",
       "      <td>...</td>\n",
       "      <td>...</td>\n",
       "      <td>...</td>\n",
       "      <td>...</td>\n",
       "      <td>...</td>\n",
       "      <td>...</td>\n",
       "    </tr>\n",
       "    <tr>\n",
       "      <th>59218</th>\n",
       "      <td>2016</td>\n",
       "      <td>12</td>\n",
       "      <td>65-70S</td>\n",
       "      <td>-9999</td>\n",
       "      <td>-9999</td>\n",
       "      <td>-9999</td>\n",
       "      <td>-9999</td>\n",
       "      <td>-9999</td>\n",
       "      <td>-9999</td>\n",
       "      <td>-9999</td>\n",
       "      <td>...</td>\n",
       "      <td>-9999</td>\n",
       "      <td>-9999</td>\n",
       "      <td>-9999</td>\n",
       "      <td>-9999</td>\n",
       "      <td>-9999</td>\n",
       "      <td>-9999</td>\n",
       "      <td>-9999</td>\n",
       "      <td>-9999</td>\n",
       "      <td>-9999</td>\n",
       "      <td>-9999</td>\n",
       "    </tr>\n",
       "    <tr>\n",
       "      <th>59219</th>\n",
       "      <td>2016</td>\n",
       "      <td>12</td>\n",
       "      <td>70-75S</td>\n",
       "      <td>-9999</td>\n",
       "      <td>-9999</td>\n",
       "      <td>-9999</td>\n",
       "      <td>-9999</td>\n",
       "      <td>-9999</td>\n",
       "      <td>-9999</td>\n",
       "      <td>-9999</td>\n",
       "      <td>...</td>\n",
       "      <td>-9999</td>\n",
       "      <td>-9999</td>\n",
       "      <td>-9999</td>\n",
       "      <td>-9999</td>\n",
       "      <td>-9999</td>\n",
       "      <td>-9999</td>\n",
       "      <td>-9999</td>\n",
       "      <td>-9999</td>\n",
       "      <td>-9999</td>\n",
       "      <td>-9999</td>\n",
       "    </tr>\n",
       "    <tr>\n",
       "      <th>59220</th>\n",
       "      <td>2016</td>\n",
       "      <td>12</td>\n",
       "      <td>75-80S</td>\n",
       "      <td>-9999</td>\n",
       "      <td>-9999</td>\n",
       "      <td>-9999</td>\n",
       "      <td>-9999</td>\n",
       "      <td>-9999</td>\n",
       "      <td>-9999</td>\n",
       "      <td>-9999</td>\n",
       "      <td>...</td>\n",
       "      <td>-9999</td>\n",
       "      <td>-9999</td>\n",
       "      <td>-9999</td>\n",
       "      <td>-9999</td>\n",
       "      <td>-9999</td>\n",
       "      <td>-9999</td>\n",
       "      <td>-9999</td>\n",
       "      <td>-9999</td>\n",
       "      <td>-9999</td>\n",
       "      <td>-9999</td>\n",
       "    </tr>\n",
       "    <tr>\n",
       "      <th>59221</th>\n",
       "      <td>2016</td>\n",
       "      <td>12</td>\n",
       "      <td>80-85S</td>\n",
       "      <td>-9999</td>\n",
       "      <td>-9999</td>\n",
       "      <td>-9999</td>\n",
       "      <td>-9999</td>\n",
       "      <td>-9999</td>\n",
       "      <td>-9999</td>\n",
       "      <td>-9999</td>\n",
       "      <td>...</td>\n",
       "      <td>-9999</td>\n",
       "      <td>-9999</td>\n",
       "      <td>-9999</td>\n",
       "      <td>-9999</td>\n",
       "      <td>-9999</td>\n",
       "      <td>-9999</td>\n",
       "      <td>-9999</td>\n",
       "      <td>-9999</td>\n",
       "      <td>-9999</td>\n",
       "      <td>-9999</td>\n",
       "    </tr>\n",
       "    <tr>\n",
       "      <th>59222</th>\n",
       "      <td>2016</td>\n",
       "      <td>12</td>\n",
       "      <td>85-90S</td>\n",
       "      <td>-9999</td>\n",
       "      <td>-9999</td>\n",
       "      <td>-9999</td>\n",
       "      <td>-9999</td>\n",
       "      <td>-9999</td>\n",
       "      <td>-9999</td>\n",
       "      <td>-9999</td>\n",
       "      <td>...</td>\n",
       "      <td>-9999</td>\n",
       "      <td>-9999</td>\n",
       "      <td>-9999</td>\n",
       "      <td>-9999</td>\n",
       "      <td>-9999</td>\n",
       "      <td>-9999</td>\n",
       "      <td>-9999</td>\n",
       "      <td>-9999</td>\n",
       "      <td>-9999</td>\n",
       "      <td>-9999</td>\n",
       "    </tr>\n",
       "  </tbody>\n",
       "</table>\n",
       "<p>59223 rows × 75 columns</p>\n",
       "</div>"
      ],
      "text/plain": [
       "       year  month     lat  lon_175_180W  lon_170_175W  lon_165_170W  \\\n",
       "0      1880      1  85-90N         -9999         -9999         -9999   \n",
       "1      1880      1  80-85N         -9999         -9999         -9999   \n",
       "2      1880      1  75-80N         -9999         -9999         -9999   \n",
       "3      1880      1  70-75N         -9999         -9999         -9999   \n",
       "4      1880      1  65-70N         -9999         -9999         -9999   \n",
       "...     ...    ...     ...           ...           ...           ...   \n",
       "59218  2016     12  65-70S         -9999         -9999         -9999   \n",
       "59219  2016     12  70-75S         -9999         -9999         -9999   \n",
       "59220  2016     12  75-80S         -9999         -9999         -9999   \n",
       "59221  2016     12  80-85S         -9999         -9999         -9999   \n",
       "59222  2016     12  85-90S         -9999         -9999         -9999   \n",
       "\n",
       "       lon_160_165W  lon_155_160W  lon_150_155W  lon_145_150W  ...  \\\n",
       "0             -9999         -9999         -9999         -9999  ...   \n",
       "1             -9999         -9999         -9999         -9999  ...   \n",
       "2             -9999         -9999         -9999         -9999  ...   \n",
       "3             -9999         -9999         -9999         -9999  ...   \n",
       "4             -9999         -9999         -9999         -9999  ...   \n",
       "...             ...           ...           ...           ...  ...   \n",
       "59218         -9999         -9999         -9999         -9999  ...   \n",
       "59219         -9999         -9999         -9999         -9999  ...   \n",
       "59220         -9999         -9999         -9999         -9999  ...   \n",
       "59221         -9999         -9999         -9999         -9999  ...   \n",
       "59222         -9999         -9999         -9999         -9999  ...   \n",
       "\n",
       "       lon_130_135E  lon_135_140E  lon_140_145E  lon_145_150E  lon_150_155E  \\\n",
       "0             -9999         -9999         -9999         -9999         -9999   \n",
       "1             -9999         -9999         -9999         -9999         -9999   \n",
       "2             -9999         -9999         -9999         -9999         -9999   \n",
       "3             -9999         -9999         -9999         -9999         -9999   \n",
       "4             -9999         -9999         -9999         -9999         -9999   \n",
       "...             ...           ...           ...           ...           ...   \n",
       "59218         -9999         -9999         -9999         -9999         -9999   \n",
       "59219         -9999         -9999         -9999         -9999         -9999   \n",
       "59220         -9999         -9999         -9999         -9999         -9999   \n",
       "59221         -9999         -9999         -9999         -9999         -9999   \n",
       "59222         -9999         -9999         -9999         -9999         -9999   \n",
       "\n",
       "       lon_155_160E  lon_160_165E  lon_165_170E  lon_170_175E  lon_175_180E  \n",
       "0             -9999         -9999         -9999         -9999         -9999  \n",
       "1             -9999         -9999         -9999         -9999         -9999  \n",
       "2             -9999         -9999         -9999         -9999         -9999  \n",
       "3             -9999         -9999         -9999         -9999         -9999  \n",
       "4             -9999         -9999         -9999         -9999         -9999  \n",
       "...             ...           ...           ...           ...           ...  \n",
       "59218         -9999         -9999         -9999         -9999         -9999  \n",
       "59219         -9999         -9999         -9999         -9999         -9999  \n",
       "59220         -9999         -9999         -9999         -9999         -9999  \n",
       "59221         -9999         -9999         -9999         -9999         -9999  \n",
       "59222         -9999         -9999         -9999         -9999         -9999  \n",
       "\n",
       "[59223 rows x 75 columns]"
      ]
     },
     "execution_count": 12,
     "metadata": {},
     "output_type": "execute_result"
    }
   ],
   "source": [
    "df[\"year\"] = df[\"year\"].fillna(0)\n",
    "df"
   ]
  },
  {
   "cell_type": "code",
   "execution_count": 13,
   "metadata": {},
   "outputs": [
    {
     "data": {
      "text/html": [
       "<div>\n",
       "<style scoped>\n",
       "    .dataframe tbody tr th:only-of-type {\n",
       "        vertical-align: middle;\n",
       "    }\n",
       "\n",
       "    .dataframe tbody tr th {\n",
       "        vertical-align: top;\n",
       "    }\n",
       "\n",
       "    .dataframe thead th {\n",
       "        text-align: right;\n",
       "    }\n",
       "</style>\n",
       "<table border=\"1\" class=\"dataframe\">\n",
       "  <thead>\n",
       "    <tr style=\"text-align: right;\">\n",
       "      <th></th>\n",
       "      <th>year</th>\n",
       "      <th>month</th>\n",
       "      <th>lon_175_180W</th>\n",
       "      <th>lon_170_175W</th>\n",
       "      <th>lon_165_170W</th>\n",
       "      <th>lon_160_165W</th>\n",
       "      <th>lon_155_160W</th>\n",
       "      <th>lon_150_155W</th>\n",
       "      <th>lon_145_150W</th>\n",
       "      <th>lon_140_145W</th>\n",
       "      <th>...</th>\n",
       "      <th>lon_130_135E</th>\n",
       "      <th>lon_135_140E</th>\n",
       "      <th>lon_140_145E</th>\n",
       "      <th>lon_145_150E</th>\n",
       "      <th>lon_150_155E</th>\n",
       "      <th>lon_155_160E</th>\n",
       "      <th>lon_160_165E</th>\n",
       "      <th>lon_165_170E</th>\n",
       "      <th>lon_170_175E</th>\n",
       "      <th>lon_175_180E</th>\n",
       "    </tr>\n",
       "  </thead>\n",
       "  <tbody>\n",
       "    <tr>\n",
       "      <th>year</th>\n",
       "      <td>1.000000</td>\n",
       "      <td>0.000543</td>\n",
       "      <td>0.221344</td>\n",
       "      <td>0.200637</td>\n",
       "      <td>0.219085</td>\n",
       "      <td>0.214568</td>\n",
       "      <td>0.232878</td>\n",
       "      <td>0.214757</td>\n",
       "      <td>0.222603</td>\n",
       "      <td>0.207280</td>\n",
       "      <td>...</td>\n",
       "      <td>0.098460</td>\n",
       "      <td>0.154581</td>\n",
       "      <td>0.183340</td>\n",
       "      <td>0.198418</td>\n",
       "      <td>0.206451</td>\n",
       "      <td>0.229369</td>\n",
       "      <td>0.238269</td>\n",
       "      <td>0.248000</td>\n",
       "      <td>0.249560</td>\n",
       "      <td>0.243406</td>\n",
       "    </tr>\n",
       "    <tr>\n",
       "      <th>month</th>\n",
       "      <td>0.000543</td>\n",
       "      <td>1.000000</td>\n",
       "      <td>-0.000724</td>\n",
       "      <td>0.005377</td>\n",
       "      <td>-0.003596</td>\n",
       "      <td>-0.008727</td>\n",
       "      <td>-0.005521</td>\n",
       "      <td>-0.007828</td>\n",
       "      <td>-0.016272</td>\n",
       "      <td>-0.013368</td>\n",
       "      <td>...</td>\n",
       "      <td>-0.011804</td>\n",
       "      <td>-0.015001</td>\n",
       "      <td>-0.013604</td>\n",
       "      <td>0.019417</td>\n",
       "      <td>0.006719</td>\n",
       "      <td>-0.000245</td>\n",
       "      <td>0.002062</td>\n",
       "      <td>-0.014232</td>\n",
       "      <td>-0.020682</td>\n",
       "      <td>-0.026379</td>\n",
       "    </tr>\n",
       "    <tr>\n",
       "      <th>lon_175_180W</th>\n",
       "      <td>0.221344</td>\n",
       "      <td>-0.000724</td>\n",
       "      <td>1.000000</td>\n",
       "      <td>0.919132</td>\n",
       "      <td>0.876680</td>\n",
       "      <td>0.838197</td>\n",
       "      <td>0.767589</td>\n",
       "      <td>0.789151</td>\n",
       "      <td>0.782656</td>\n",
       "      <td>0.770470</td>\n",
       "      <td>...</td>\n",
       "      <td>0.752736</td>\n",
       "      <td>0.743128</td>\n",
       "      <td>0.768918</td>\n",
       "      <td>0.750161</td>\n",
       "      <td>0.813110</td>\n",
       "      <td>0.834351</td>\n",
       "      <td>0.844281</td>\n",
       "      <td>0.866634</td>\n",
       "      <td>0.899007</td>\n",
       "      <td>0.924020</td>\n",
       "    </tr>\n",
       "    <tr>\n",
       "      <th>lon_170_175W</th>\n",
       "      <td>0.200637</td>\n",
       "      <td>0.005377</td>\n",
       "      <td>0.919132</td>\n",
       "      <td>1.000000</td>\n",
       "      <td>0.898751</td>\n",
       "      <td>0.852339</td>\n",
       "      <td>0.786093</td>\n",
       "      <td>0.796648</td>\n",
       "      <td>0.782644</td>\n",
       "      <td>0.767416</td>\n",
       "      <td>...</td>\n",
       "      <td>0.744359</td>\n",
       "      <td>0.727843</td>\n",
       "      <td>0.747517</td>\n",
       "      <td>0.728583</td>\n",
       "      <td>0.787825</td>\n",
       "      <td>0.804968</td>\n",
       "      <td>0.803857</td>\n",
       "      <td>0.815957</td>\n",
       "      <td>0.833025</td>\n",
       "      <td>0.856145</td>\n",
       "    </tr>\n",
       "    <tr>\n",
       "      <th>lon_165_170W</th>\n",
       "      <td>0.219085</td>\n",
       "      <td>-0.003596</td>\n",
       "      <td>0.876680</td>\n",
       "      <td>0.898751</td>\n",
       "      <td>1.000000</td>\n",
       "      <td>0.943095</td>\n",
       "      <td>0.871514</td>\n",
       "      <td>0.877057</td>\n",
       "      <td>0.853313</td>\n",
       "      <td>0.830631</td>\n",
       "      <td>...</td>\n",
       "      <td>0.783858</td>\n",
       "      <td>0.768297</td>\n",
       "      <td>0.775138</td>\n",
       "      <td>0.759097</td>\n",
       "      <td>0.816848</td>\n",
       "      <td>0.827673</td>\n",
       "      <td>0.829697</td>\n",
       "      <td>0.834676</td>\n",
       "      <td>0.847195</td>\n",
       "      <td>0.865070</td>\n",
       "    </tr>\n",
       "    <tr>\n",
       "      <th>...</th>\n",
       "      <td>...</td>\n",
       "      <td>...</td>\n",
       "      <td>...</td>\n",
       "      <td>...</td>\n",
       "      <td>...</td>\n",
       "      <td>...</td>\n",
       "      <td>...</td>\n",
       "      <td>...</td>\n",
       "      <td>...</td>\n",
       "      <td>...</td>\n",
       "      <td>...</td>\n",
       "      <td>...</td>\n",
       "      <td>...</td>\n",
       "      <td>...</td>\n",
       "      <td>...</td>\n",
       "      <td>...</td>\n",
       "      <td>...</td>\n",
       "      <td>...</td>\n",
       "      <td>...</td>\n",
       "      <td>...</td>\n",
       "      <td>...</td>\n",
       "    </tr>\n",
       "    <tr>\n",
       "      <th>lon_155_160E</th>\n",
       "      <td>0.229369</td>\n",
       "      <td>-0.000245</td>\n",
       "      <td>0.834351</td>\n",
       "      <td>0.804968</td>\n",
       "      <td>0.827673</td>\n",
       "      <td>0.807410</td>\n",
       "      <td>0.753366</td>\n",
       "      <td>0.776760</td>\n",
       "      <td>0.773717</td>\n",
       "      <td>0.767822</td>\n",
       "      <td>...</td>\n",
       "      <td>0.823493</td>\n",
       "      <td>0.824965</td>\n",
       "      <td>0.859098</td>\n",
       "      <td>0.868203</td>\n",
       "      <td>0.951248</td>\n",
       "      <td>1.000000</td>\n",
       "      <td>0.947927</td>\n",
       "      <td>0.901898</td>\n",
       "      <td>0.878007</td>\n",
       "      <td>0.859420</td>\n",
       "    </tr>\n",
       "    <tr>\n",
       "      <th>lon_160_165E</th>\n",
       "      <td>0.238269</td>\n",
       "      <td>0.002062</td>\n",
       "      <td>0.844281</td>\n",
       "      <td>0.803857</td>\n",
       "      <td>0.829697</td>\n",
       "      <td>0.807157</td>\n",
       "      <td>0.752052</td>\n",
       "      <td>0.777764</td>\n",
       "      <td>0.774209</td>\n",
       "      <td>0.768009</td>\n",
       "      <td>...</td>\n",
       "      <td>0.798498</td>\n",
       "      <td>0.795693</td>\n",
       "      <td>0.822876</td>\n",
       "      <td>0.838974</td>\n",
       "      <td>0.922719</td>\n",
       "      <td>0.947927</td>\n",
       "      <td>1.000000</td>\n",
       "      <td>0.932154</td>\n",
       "      <td>0.904398</td>\n",
       "      <td>0.880674</td>\n",
       "    </tr>\n",
       "    <tr>\n",
       "      <th>lon_165_170E</th>\n",
       "      <td>0.248000</td>\n",
       "      <td>-0.014232</td>\n",
       "      <td>0.866634</td>\n",
       "      <td>0.815957</td>\n",
       "      <td>0.834676</td>\n",
       "      <td>0.817879</td>\n",
       "      <td>0.761121</td>\n",
       "      <td>0.791491</td>\n",
       "      <td>0.789052</td>\n",
       "      <td>0.782043</td>\n",
       "      <td>...</td>\n",
       "      <td>0.785927</td>\n",
       "      <td>0.771297</td>\n",
       "      <td>0.795943</td>\n",
       "      <td>0.786376</td>\n",
       "      <td>0.867705</td>\n",
       "      <td>0.901898</td>\n",
       "      <td>0.932154</td>\n",
       "      <td>1.000000</td>\n",
       "      <td>0.955552</td>\n",
       "      <td>0.923765</td>\n",
       "    </tr>\n",
       "    <tr>\n",
       "      <th>lon_170_175E</th>\n",
       "      <td>0.249560</td>\n",
       "      <td>-0.020682</td>\n",
       "      <td>0.899007</td>\n",
       "      <td>0.833025</td>\n",
       "      <td>0.847195</td>\n",
       "      <td>0.824531</td>\n",
       "      <td>0.764665</td>\n",
       "      <td>0.794903</td>\n",
       "      <td>0.792017</td>\n",
       "      <td>0.783123</td>\n",
       "      <td>...</td>\n",
       "      <td>0.777463</td>\n",
       "      <td>0.762119</td>\n",
       "      <td>0.790170</td>\n",
       "      <td>0.773937</td>\n",
       "      <td>0.849035</td>\n",
       "      <td>0.878007</td>\n",
       "      <td>0.904398</td>\n",
       "      <td>0.955552</td>\n",
       "      <td>1.000000</td>\n",
       "      <td>0.960111</td>\n",
       "    </tr>\n",
       "    <tr>\n",
       "      <th>lon_175_180E</th>\n",
       "      <td>0.243406</td>\n",
       "      <td>-0.026379</td>\n",
       "      <td>0.924020</td>\n",
       "      <td>0.856145</td>\n",
       "      <td>0.865070</td>\n",
       "      <td>0.839758</td>\n",
       "      <td>0.772335</td>\n",
       "      <td>0.801246</td>\n",
       "      <td>0.796487</td>\n",
       "      <td>0.786246</td>\n",
       "      <td>...</td>\n",
       "      <td>0.776534</td>\n",
       "      <td>0.759845</td>\n",
       "      <td>0.784603</td>\n",
       "      <td>0.764024</td>\n",
       "      <td>0.833852</td>\n",
       "      <td>0.859420</td>\n",
       "      <td>0.880674</td>\n",
       "      <td>0.923765</td>\n",
       "      <td>0.960111</td>\n",
       "      <td>1.000000</td>\n",
       "    </tr>\n",
       "  </tbody>\n",
       "</table>\n",
       "<p>74 rows × 74 columns</p>\n",
       "</div>"
      ],
      "text/plain": [
       "                  year     month  lon_175_180W  lon_170_175W  lon_165_170W  \\\n",
       "year          1.000000  0.000543      0.221344      0.200637      0.219085   \n",
       "month         0.000543  1.000000     -0.000724      0.005377     -0.003596   \n",
       "lon_175_180W  0.221344 -0.000724      1.000000      0.919132      0.876680   \n",
       "lon_170_175W  0.200637  0.005377      0.919132      1.000000      0.898751   \n",
       "lon_165_170W  0.219085 -0.003596      0.876680      0.898751      1.000000   \n",
       "...                ...       ...           ...           ...           ...   \n",
       "lon_155_160E  0.229369 -0.000245      0.834351      0.804968      0.827673   \n",
       "lon_160_165E  0.238269  0.002062      0.844281      0.803857      0.829697   \n",
       "lon_165_170E  0.248000 -0.014232      0.866634      0.815957      0.834676   \n",
       "lon_170_175E  0.249560 -0.020682      0.899007      0.833025      0.847195   \n",
       "lon_175_180E  0.243406 -0.026379      0.924020      0.856145      0.865070   \n",
       "\n",
       "              lon_160_165W  lon_155_160W  lon_150_155W  lon_145_150W  \\\n",
       "year              0.214568      0.232878      0.214757      0.222603   \n",
       "month            -0.008727     -0.005521     -0.007828     -0.016272   \n",
       "lon_175_180W      0.838197      0.767589      0.789151      0.782656   \n",
       "lon_170_175W      0.852339      0.786093      0.796648      0.782644   \n",
       "lon_165_170W      0.943095      0.871514      0.877057      0.853313   \n",
       "...                    ...           ...           ...           ...   \n",
       "lon_155_160E      0.807410      0.753366      0.776760      0.773717   \n",
       "lon_160_165E      0.807157      0.752052      0.777764      0.774209   \n",
       "lon_165_170E      0.817879      0.761121      0.791491      0.789052   \n",
       "lon_170_175E      0.824531      0.764665      0.794903      0.792017   \n",
       "lon_175_180E      0.839758      0.772335      0.801246      0.796487   \n",
       "\n",
       "              lon_140_145W  ...  lon_130_135E  lon_135_140E  lon_140_145E  \\\n",
       "year              0.207280  ...      0.098460      0.154581      0.183340   \n",
       "month            -0.013368  ...     -0.011804     -0.015001     -0.013604   \n",
       "lon_175_180W      0.770470  ...      0.752736      0.743128      0.768918   \n",
       "lon_170_175W      0.767416  ...      0.744359      0.727843      0.747517   \n",
       "lon_165_170W      0.830631  ...      0.783858      0.768297      0.775138   \n",
       "...                    ...  ...           ...           ...           ...   \n",
       "lon_155_160E      0.767822  ...      0.823493      0.824965      0.859098   \n",
       "lon_160_165E      0.768009  ...      0.798498      0.795693      0.822876   \n",
       "lon_165_170E      0.782043  ...      0.785927      0.771297      0.795943   \n",
       "lon_170_175E      0.783123  ...      0.777463      0.762119      0.790170   \n",
       "lon_175_180E      0.786246  ...      0.776534      0.759845      0.784603   \n",
       "\n",
       "              lon_145_150E  lon_150_155E  lon_155_160E  lon_160_165E  \\\n",
       "year              0.198418      0.206451      0.229369      0.238269   \n",
       "month             0.019417      0.006719     -0.000245      0.002062   \n",
       "lon_175_180W      0.750161      0.813110      0.834351      0.844281   \n",
       "lon_170_175W      0.728583      0.787825      0.804968      0.803857   \n",
       "lon_165_170W      0.759097      0.816848      0.827673      0.829697   \n",
       "...                    ...           ...           ...           ...   \n",
       "lon_155_160E      0.868203      0.951248      1.000000      0.947927   \n",
       "lon_160_165E      0.838974      0.922719      0.947927      1.000000   \n",
       "lon_165_170E      0.786376      0.867705      0.901898      0.932154   \n",
       "lon_170_175E      0.773937      0.849035      0.878007      0.904398   \n",
       "lon_175_180E      0.764024      0.833852      0.859420      0.880674   \n",
       "\n",
       "              lon_165_170E  lon_170_175E  lon_175_180E  \n",
       "year              0.248000      0.249560      0.243406  \n",
       "month            -0.014232     -0.020682     -0.026379  \n",
       "lon_175_180W      0.866634      0.899007      0.924020  \n",
       "lon_170_175W      0.815957      0.833025      0.856145  \n",
       "lon_165_170W      0.834676      0.847195      0.865070  \n",
       "...                    ...           ...           ...  \n",
       "lon_155_160E      0.901898      0.878007      0.859420  \n",
       "lon_160_165E      0.932154      0.904398      0.880674  \n",
       "lon_165_170E      1.000000      0.955552      0.923765  \n",
       "lon_170_175E      0.955552      1.000000      0.960111  \n",
       "lon_175_180E      0.923765      0.960111      1.000000  \n",
       "\n",
       "[74 rows x 74 columns]"
      ]
     },
     "execution_count": 13,
     "metadata": {},
     "output_type": "execute_result"
    }
   ],
   "source": [
    "corr = df.corr()\n",
    "corr"
   ]
  },
  {
   "cell_type": "code",
   "execution_count": 14,
   "metadata": {},
   "outputs": [
    {
     "data": {
      "text/html": [
       "<div>\n",
       "<style scoped>\n",
       "    .dataframe tbody tr th:only-of-type {\n",
       "        vertical-align: middle;\n",
       "    }\n",
       "\n",
       "    .dataframe tbody tr th {\n",
       "        vertical-align: top;\n",
       "    }\n",
       "\n",
       "    .dataframe thead th {\n",
       "        text-align: right;\n",
       "    }\n",
       "</style>\n",
       "<table border=\"1\" class=\"dataframe\">\n",
       "  <thead>\n",
       "    <tr style=\"text-align: right;\">\n",
       "      <th></th>\n",
       "      <th>year</th>\n",
       "      <th>month</th>\n",
       "      <th>lon_175_180W</th>\n",
       "      <th>lon_170_175W</th>\n",
       "      <th>lon_165_170W</th>\n",
       "      <th>lon_160_165W</th>\n",
       "      <th>lon_155_160W</th>\n",
       "      <th>lon_150_155W</th>\n",
       "      <th>lon_145_150W</th>\n",
       "      <th>lon_140_145W</th>\n",
       "      <th>...</th>\n",
       "      <th>lon_130_135E</th>\n",
       "      <th>lon_135_140E</th>\n",
       "      <th>lon_140_145E</th>\n",
       "      <th>lon_145_150E</th>\n",
       "      <th>lon_150_155E</th>\n",
       "      <th>lon_155_160E</th>\n",
       "      <th>lon_160_165E</th>\n",
       "      <th>lon_165_170E</th>\n",
       "      <th>lon_170_175E</th>\n",
       "      <th>lon_175_180E</th>\n",
       "    </tr>\n",
       "  </thead>\n",
       "  <tbody>\n",
       "    <tr>\n",
       "      <th>count</th>\n",
       "      <td>59223.000000</td>\n",
       "      <td>59223.000000</td>\n",
       "      <td>59223.000000</td>\n",
       "      <td>59223.000000</td>\n",
       "      <td>59223.000000</td>\n",
       "      <td>59223.000000</td>\n",
       "      <td>59223.000000</td>\n",
       "      <td>59223.000000</td>\n",
       "      <td>59223.000000</td>\n",
       "      <td>59223.000000</td>\n",
       "      <td>...</td>\n",
       "      <td>59223.000000</td>\n",
       "      <td>59223.000000</td>\n",
       "      <td>59223.000000</td>\n",
       "      <td>59223.000000</td>\n",
       "      <td>59223.000000</td>\n",
       "      <td>59223.000000</td>\n",
       "      <td>59223.000000</td>\n",
       "      <td>59223.000000</td>\n",
       "      <td>59223.000000</td>\n",
       "      <td>59223.000000</td>\n",
       "    </tr>\n",
       "    <tr>\n",
       "      <th>mean</th>\n",
       "      <td>1948.030833</td>\n",
       "      <td>6.501494</td>\n",
       "      <td>-3806.535586</td>\n",
       "      <td>-3900.629688</td>\n",
       "      <td>-3716.240717</td>\n",
       "      <td>-3674.018270</td>\n",
       "      <td>-3555.989143</td>\n",
       "      <td>-3802.843676</td>\n",
       "      <td>-3831.619371</td>\n",
       "      <td>-3826.867990</td>\n",
       "      <td>...</td>\n",
       "      <td>-3255.472705</td>\n",
       "      <td>-3288.776759</td>\n",
       "      <td>-3418.105837</td>\n",
       "      <td>-3614.350708</td>\n",
       "      <td>-3625.731473</td>\n",
       "      <td>-3656.735018</td>\n",
       "      <td>-3725.015281</td>\n",
       "      <td>-3695.718234</td>\n",
       "      <td>-3683.999612</td>\n",
       "      <td>-3627.703038</td>\n",
       "    </tr>\n",
       "    <tr>\n",
       "      <th>std</th>\n",
       "      <td>39.553183</td>\n",
       "      <td>3.451600</td>\n",
       "      <td>4841.980846</td>\n",
       "      <td>4864.247803</td>\n",
       "      <td>4818.174031</td>\n",
       "      <td>4807.153909</td>\n",
       "      <td>4770.977672</td>\n",
       "      <td>4839.854808</td>\n",
       "      <td>4846.055221</td>\n",
       "      <td>4844.733128</td>\n",
       "      <td>...</td>\n",
       "      <td>4650.741595</td>\n",
       "      <td>4668.893452</td>\n",
       "      <td>4719.229103</td>\n",
       "      <td>4785.281270</td>\n",
       "      <td>4788.490439</td>\n",
       "      <td>4797.648917</td>\n",
       "      <td>4818.537339</td>\n",
       "      <td>4812.273882</td>\n",
       "      <td>4809.552407</td>\n",
       "      <td>4793.979239</td>\n",
       "    </tr>\n",
       "    <tr>\n",
       "      <th>min</th>\n",
       "      <td>1880.000000</td>\n",
       "      <td>1.000000</td>\n",
       "      <td>-9999.000000</td>\n",
       "      <td>-9999.000000</td>\n",
       "      <td>-9999.000000</td>\n",
       "      <td>-9999.000000</td>\n",
       "      <td>-9999.000000</td>\n",
       "      <td>-9999.000000</td>\n",
       "      <td>-9999.000000</td>\n",
       "      <td>-9999.000000</td>\n",
       "      <td>...</td>\n",
       "      <td>-9999.000000</td>\n",
       "      <td>-9999.000000</td>\n",
       "      <td>-9999.000000</td>\n",
       "      <td>-9999.000000</td>\n",
       "      <td>-9999.000000</td>\n",
       "      <td>-9999.000000</td>\n",
       "      <td>-9999.000000</td>\n",
       "      <td>-9999.000000</td>\n",
       "      <td>-9999.000000</td>\n",
       "      <td>-9999.000000</td>\n",
       "    </tr>\n",
       "    <tr>\n",
       "      <th>25%</th>\n",
       "      <td>1914.000000</td>\n",
       "      <td>4.000000</td>\n",
       "      <td>-9999.000000</td>\n",
       "      <td>-9999.000000</td>\n",
       "      <td>-9999.000000</td>\n",
       "      <td>-9999.000000</td>\n",
       "      <td>-9999.000000</td>\n",
       "      <td>-9999.000000</td>\n",
       "      <td>-9999.000000</td>\n",
       "      <td>-9999.000000</td>\n",
       "      <td>...</td>\n",
       "      <td>-9999.000000</td>\n",
       "      <td>-9999.000000</td>\n",
       "      <td>-9999.000000</td>\n",
       "      <td>-9999.000000</td>\n",
       "      <td>-9999.000000</td>\n",
       "      <td>-9999.000000</td>\n",
       "      <td>-9999.000000</td>\n",
       "      <td>-9999.000000</td>\n",
       "      <td>-9999.000000</td>\n",
       "      <td>-9999.000000</td>\n",
       "    </tr>\n",
       "    <tr>\n",
       "      <th>50%</th>\n",
       "      <td>1948.000000</td>\n",
       "      <td>7.000000</td>\n",
       "      <td>-72.000000</td>\n",
       "      <td>-76.000000</td>\n",
       "      <td>-74.000000</td>\n",
       "      <td>-74.000000</td>\n",
       "      <td>-74.000000</td>\n",
       "      <td>-80.000000</td>\n",
       "      <td>-82.000000</td>\n",
       "      <td>-83.000000</td>\n",
       "      <td>...</td>\n",
       "      <td>-88.000000</td>\n",
       "      <td>-83.000000</td>\n",
       "      <td>-81.000000</td>\n",
       "      <td>-80.000000</td>\n",
       "      <td>-75.000000</td>\n",
       "      <td>-74.000000</td>\n",
       "      <td>-72.000000</td>\n",
       "      <td>-69.000000</td>\n",
       "      <td>-68.000000</td>\n",
       "      <td>-67.000000</td>\n",
       "    </tr>\n",
       "    <tr>\n",
       "      <th>75%</th>\n",
       "      <td>1982.000000</td>\n",
       "      <td>9.500000</td>\n",
       "      <td>-7.000000</td>\n",
       "      <td>-7.000000</td>\n",
       "      <td>-5.000000</td>\n",
       "      <td>-3.000000</td>\n",
       "      <td>-3.000000</td>\n",
       "      <td>-6.000000</td>\n",
       "      <td>-7.000000</td>\n",
       "      <td>-6.000000</td>\n",
       "      <td>...</td>\n",
       "      <td>-17.000000</td>\n",
       "      <td>-14.000000</td>\n",
       "      <td>-13.000000</td>\n",
       "      <td>-11.000000</td>\n",
       "      <td>-12.000000</td>\n",
       "      <td>-12.000000</td>\n",
       "      <td>-10.000000</td>\n",
       "      <td>-8.000000</td>\n",
       "      <td>-5.000000</td>\n",
       "      <td>-5.000000</td>\n",
       "    </tr>\n",
       "    <tr>\n",
       "      <th>max</th>\n",
       "      <td>2016.000000</td>\n",
       "      <td>12.000000</td>\n",
       "      <td>1224.000000</td>\n",
       "      <td>509.000000</td>\n",
       "      <td>1528.000000</td>\n",
       "      <td>888.000000</td>\n",
       "      <td>1317.000000</td>\n",
       "      <td>1199.000000</td>\n",
       "      <td>1105.000000</td>\n",
       "      <td>1434.000000</td>\n",
       "      <td>...</td>\n",
       "      <td>871.000000</td>\n",
       "      <td>732.000000</td>\n",
       "      <td>984.000000</td>\n",
       "      <td>1104.000000</td>\n",
       "      <td>923.000000</td>\n",
       "      <td>963.000000</td>\n",
       "      <td>1071.000000</td>\n",
       "      <td>1399.000000</td>\n",
       "      <td>1665.000000</td>\n",
       "      <td>1087.000000</td>\n",
       "    </tr>\n",
       "  </tbody>\n",
       "</table>\n",
       "<p>8 rows × 74 columns</p>\n",
       "</div>"
      ],
      "text/plain": [
       "               year         month  lon_175_180W  lon_170_175W  lon_165_170W  \\\n",
       "count  59223.000000  59223.000000  59223.000000  59223.000000  59223.000000   \n",
       "mean    1948.030833      6.501494  -3806.535586  -3900.629688  -3716.240717   \n",
       "std       39.553183      3.451600   4841.980846   4864.247803   4818.174031   \n",
       "min     1880.000000      1.000000  -9999.000000  -9999.000000  -9999.000000   \n",
       "25%     1914.000000      4.000000  -9999.000000  -9999.000000  -9999.000000   \n",
       "50%     1948.000000      7.000000    -72.000000    -76.000000    -74.000000   \n",
       "75%     1982.000000      9.500000     -7.000000     -7.000000     -5.000000   \n",
       "max     2016.000000     12.000000   1224.000000    509.000000   1528.000000   \n",
       "\n",
       "       lon_160_165W  lon_155_160W  lon_150_155W  lon_145_150W  lon_140_145W  \\\n",
       "count  59223.000000  59223.000000  59223.000000  59223.000000  59223.000000   \n",
       "mean   -3674.018270  -3555.989143  -3802.843676  -3831.619371  -3826.867990   \n",
       "std     4807.153909   4770.977672   4839.854808   4846.055221   4844.733128   \n",
       "min    -9999.000000  -9999.000000  -9999.000000  -9999.000000  -9999.000000   \n",
       "25%    -9999.000000  -9999.000000  -9999.000000  -9999.000000  -9999.000000   \n",
       "50%      -74.000000    -74.000000    -80.000000    -82.000000    -83.000000   \n",
       "75%       -3.000000     -3.000000     -6.000000     -7.000000     -6.000000   \n",
       "max      888.000000   1317.000000   1199.000000   1105.000000   1434.000000   \n",
       "\n",
       "       ...  lon_130_135E  lon_135_140E  lon_140_145E  lon_145_150E  \\\n",
       "count  ...  59223.000000  59223.000000  59223.000000  59223.000000   \n",
       "mean   ...  -3255.472705  -3288.776759  -3418.105837  -3614.350708   \n",
       "std    ...   4650.741595   4668.893452   4719.229103   4785.281270   \n",
       "min    ...  -9999.000000  -9999.000000  -9999.000000  -9999.000000   \n",
       "25%    ...  -9999.000000  -9999.000000  -9999.000000  -9999.000000   \n",
       "50%    ...    -88.000000    -83.000000    -81.000000    -80.000000   \n",
       "75%    ...    -17.000000    -14.000000    -13.000000    -11.000000   \n",
       "max    ...    871.000000    732.000000    984.000000   1104.000000   \n",
       "\n",
       "       lon_150_155E  lon_155_160E  lon_160_165E  lon_165_170E  lon_170_175E  \\\n",
       "count  59223.000000  59223.000000  59223.000000  59223.000000  59223.000000   \n",
       "mean   -3625.731473  -3656.735018  -3725.015281  -3695.718234  -3683.999612   \n",
       "std     4788.490439   4797.648917   4818.537339   4812.273882   4809.552407   \n",
       "min    -9999.000000  -9999.000000  -9999.000000  -9999.000000  -9999.000000   \n",
       "25%    -9999.000000  -9999.000000  -9999.000000  -9999.000000  -9999.000000   \n",
       "50%      -75.000000    -74.000000    -72.000000    -69.000000    -68.000000   \n",
       "75%      -12.000000    -12.000000    -10.000000     -8.000000     -5.000000   \n",
       "max      923.000000    963.000000   1071.000000   1399.000000   1665.000000   \n",
       "\n",
       "       lon_175_180E  \n",
       "count  59223.000000  \n",
       "mean   -3627.703038  \n",
       "std     4793.979239  \n",
       "min    -9999.000000  \n",
       "25%    -9999.000000  \n",
       "50%      -67.000000  \n",
       "75%       -5.000000  \n",
       "max     1087.000000  \n",
       "\n",
       "[8 rows x 74 columns]"
      ]
     },
     "execution_count": 14,
     "metadata": {},
     "output_type": "execute_result"
    }
   ],
   "source": [
    "df.describe()"
   ]
  },
  {
   "cell_type": "markdown",
   "metadata": {},
   "source": [
    "# Análise de dados"
   ]
  },
  {
   "cell_type": "code",
   "execution_count": 15,
   "metadata": {},
   "outputs": [
    {
     "data": {
      "text/plain": [
       "<matplotlib.axes._subplots.AxesSubplot at 0x1d0c382f608>"
      ]
     },
     "execution_count": 15,
     "metadata": {},
     "output_type": "execute_result"
    },
    {
     "data": {
      "image/png": "[encoded data removed]",
      "text/plain": [
       "<Figure size 432x288 with 1 Axes>"
      ]
     },
     "metadata": {},
     "output_type": "display_data"
    }
   ],
   "source": [
    "sns.distplot(df[\"month\"])"
   ]
  },
  {
   "cell_type": "code",
   "execution_count": 16,
   "metadata": {},
   "outputs": [
    {
     "data": {
      "text/plain": [
       "<matplotlib.axes._subplots.AxesSubplot at 0x1d0c4524cc8>"
      ]
     },
     "execution_count": 16,
     "metadata": {},
     "output_type": "execute_result"
    },
    {
     "data": {
      "image/png": "[encoded data removed]",
      "text/plain": [
       "<Figure size 432x288 with 1 Axes>"
      ]
     },
     "metadata": {},
     "output_type": "display_data"
    }
   ],
   "source": [
    "sns.distplot(df[\"year\"])"
   ]
  },
  {
   "cell_type": "code",
   "execution_count": 17,
   "metadata": {},
   "outputs": [
    {
     "data": {
      "text/plain": [
       "<matplotlib.axes._subplots.AxesSubplot at 0x1d0c45f1b08>"
      ]
     },
     "execution_count": 17,
     "metadata": {},
     "output_type": "execute_result"
    },
    {
     "data": {
      "image/png": "[encoded data removed]",
      "text/plain": [
       "<Figure size 432x288 with 1 Axes>"
      ]
     },
     "metadata": {},
     "output_type": "display_data"
    }
   ],
   "source": [
    "sns.distplot(df[\"lon_175_180W\"])"
   ]
  },
  {
   "cell_type": "code",
   "execution_count": 18,
   "metadata": {},
   "outputs": [
    {
     "data": {
      "text/plain": [
       "<matplotlib.axes._subplots.AxesSubplot at 0x1d0c4690b88>"
      ]
     },
     "execution_count": 18,
     "metadata": {},
     "output_type": "execute_result"
    },
    {
     "data": {
      "image/png": "[encoded data removed]",
      "text/plain": [
       "<Figure size 432x288 with 1 Axes>"
      ]
     },
     "metadata": {},
     "output_type": "display_data"
    }
   ],
   "source": [
    "sns.distplot(df[\"lon_170_175E\"])"
   ]
  },
  {
   "cell_type": "code",
   "execution_count": 19,
   "metadata": {},
   "outputs": [
    {
     "data": {
      "text/plain": [
       "<matplotlib.axes._subplots.AxesSubplot at 0x1d0c4715d08>"
      ]
     },
     "execution_count": 19,
     "metadata": {},
     "output_type": "execute_result"
    },
    {
     "data": {
      "image/png": "[encoded data removed]",
      "text/plain": [
       "<Figure size 432x288 with 1 Axes>"
      ]
     },
     "metadata": {},
     "output_type": "display_data"
    }
   ],
   "source": [
    "sns.scatterplot(data = df, x=\"year\", y=\"lon_170_175E\")"
   ]
  },
  {
   "cell_type": "markdown",
   "metadata": {},
   "source": [
    "# Dados de treino e teste"
   ]
  },
  {
   "cell_type": "code",
   "execution_count": 48,
   "metadata": {},
   "outputs": [],
   "source": [
    "x = df[[\"year\"]].values.reshape(-1,1)\n",
    "y = df[\"year\"].values.reshape(-1,1)"
   ]
  },
  {
   "cell_type": "code",
   "execution_count": 49,
   "metadata": {},
   "outputs": [
    {
     "data": {
      "text/plain": [
       "array([[1880],\n",
       "       [1880],\n",
       "       [1880],\n",
       "       ...,\n",
       "       [2016],\n",
       "       [2016],\n",
       "       [2016]], dtype=int64)"
      ]
     },
     "execution_count": 49,
     "metadata": {},
     "output_type": "execute_result"
    }
   ],
   "source": [
    "x"
   ]
  },
  {
   "cell_type": "code",
   "execution_count": 50,
   "metadata": {},
   "outputs": [
    {
     "data": {
      "text/plain": [
       "array([[1880],\n",
       "       [1880],\n",
       "       [1880],\n",
       "       ...,\n",
       "       [2016],\n",
       "       [2016],\n",
       "       [2016]], dtype=int64)"
      ]
     },
     "execution_count": 50,
     "metadata": {},
     "output_type": "execute_result"
    }
   ],
   "source": [
    "y"
   ]
  },
  {
   "cell_type": "code",
   "execution_count": 51,
   "metadata": {},
   "outputs": [
    {
     "data": {
      "text/plain": [
       "(59223, 1)"
      ]
     },
     "execution_count": 51,
     "metadata": {},
     "output_type": "execute_result"
    }
   ],
   "source": [
    "x.shape"
   ]
  },
  {
   "cell_type": "code",
   "execution_count": 52,
   "metadata": {},
   "outputs": [
    {
     "data": {
      "text/plain": [
       "(59223, 1)"
      ]
     },
     "execution_count": 52,
     "metadata": {},
     "output_type": "execute_result"
    }
   ],
   "source": [
    "y.shape"
   ]
  },
  {
   "cell_type": "markdown",
   "metadata": {},
   "source": [
    "# Pré - processamento"
   ]
  },
  {
   "cell_type": "code",
   "execution_count": 53,
   "metadata": {},
   "outputs": [],
   "source": [
    "from sklearn.preprocessing import StandardScaler\n",
    "\n",
    "scaler = StandardScaler()\n",
    "scaler_x = scaler.fit_transform(x)\n",
    "scaler_y = scaler.fit_transform(y)"
   ]
  },
  {
   "cell_type": "code",
   "execution_count": 54,
   "metadata": {},
   "outputs": [
    {
     "data": {
      "text/plain": [
       "array([[-1.71999827],\n",
       "       [-1.71999827],\n",
       "       [-1.71999827],\n",
       "       ...,\n",
       "       [ 1.71843921],\n",
       "       [ 1.71843921],\n",
       "       [ 1.71843921]])"
      ]
     },
     "execution_count": 54,
     "metadata": {},
     "output_type": "execute_result"
    }
   ],
   "source": [
    "scaler_x"
   ]
  },
  {
   "cell_type": "code",
   "execution_count": 55,
   "metadata": {},
   "outputs": [
    {
     "data": {
      "text/plain": [
       "array([[-1.71999827],\n",
       "       [-1.71999827],\n",
       "       [-1.71999827],\n",
       "       ...,\n",
       "       [ 1.71843921],\n",
       "       [ 1.71843921],\n",
       "       [ 1.71843921]])"
      ]
     },
     "execution_count": 55,
     "metadata": {},
     "output_type": "execute_result"
    }
   ],
   "source": [
    "scaler_y"
   ]
  },
  {
   "cell_type": "code",
   "execution_count": 56,
   "metadata": {},
   "outputs": [
    {
     "data": {
      "text/plain": [
       "(59223, 1)"
      ]
     },
     "execution_count": 56,
     "metadata": {},
     "output_type": "execute_result"
    }
   ],
   "source": [
    "scaler_x.shape"
   ]
  },
  {
   "cell_type": "code",
   "execution_count": 57,
   "metadata": {},
   "outputs": [
    {
     "data": {
      "text/plain": [
       "(59223, 1)"
      ]
     },
     "execution_count": 57,
     "metadata": {},
     "output_type": "execute_result"
    }
   ],
   "source": [
    "scaler_y.shape"
   ]
  },
  {
   "cell_type": "markdown",
   "metadata": {},
   "source": [
    "# Treino e Teste"
   ]
  },
  {
   "cell_type": "code",
   "execution_count": 58,
   "metadata": {},
   "outputs": [],
   "source": [
    "from sklearn.model_selection import train_test_split\n",
    "\n",
    "X_train, X_test, y_train, y_test = train_test_split(scaler_x, scaler_y, test_size=0.2, random_state=0)"
   ]
  },
  {
   "cell_type": "code",
   "execution_count": 59,
   "metadata": {},
   "outputs": [
    {
     "data": {
      "text/plain": [
       "(47378, 1)"
      ]
     },
     "execution_count": 59,
     "metadata": {},
     "output_type": "execute_result"
    }
   ],
   "source": [
    "X_train.shape"
   ]
  },
  {
   "cell_type": "code",
   "execution_count": 60,
   "metadata": {},
   "outputs": [
    {
     "data": {
      "text/plain": [
       "(47378, 1)"
      ]
     },
     "execution_count": 60,
     "metadata": {},
     "output_type": "execute_result"
    }
   ],
   "source": [
    "y_train.shape"
   ]
  },
  {
   "cell_type": "code",
   "execution_count": 61,
   "metadata": {},
   "outputs": [
    {
     "data": {
      "text/plain": [
       "(11845, 1)"
      ]
     },
     "execution_count": 61,
     "metadata": {},
     "output_type": "execute_result"
    }
   ],
   "source": [
    "X_test.shape"
   ]
  },
  {
   "cell_type": "code",
   "execution_count": 62,
   "metadata": {},
   "outputs": [
    {
     "data": {
      "text/plain": [
       "(11845, 1)"
      ]
     },
     "execution_count": 62,
     "metadata": {},
     "output_type": "execute_result"
    }
   ],
   "source": [
    "y_test.shape"
   ]
  },
  {
   "cell_type": "markdown",
   "metadata": {},
   "source": [
    "# Modelo regressão linear "
   ]
  },
  {
   "cell_type": "code",
   "execution_count": 63,
   "metadata": {},
   "outputs": [
    {
     "data": {
      "text/plain": [
       "array([[ 0.32789464],\n",
       "       [ 1.49089555],\n",
       "       [ 1.28863452],\n",
       "       ...,\n",
       "       [ 0.75769933],\n",
       "       [ 0.80826458],\n",
       "       [-1.5683025 ]])"
      ]
     },
     "execution_count": 63,
     "metadata": {},
     "output_type": "execute_result"
    }
   ],
   "source": [
    "from sklearn.linear_model import LinearRegression\n",
    "\n",
    "reg_line = LinearRegression()\n",
    "reg_line.fit(X_train, y_train)\n",
    "reg_pred = reg_line.predict(X_train)\n",
    "reg_pred"
   ]
  },
  {
   "cell_type": "code",
   "execution_count": 64,
   "metadata": {},
   "outputs": [
    {
     "data": {
      "text/plain": [
       "1.0"
      ]
     },
     "execution_count": 64,
     "metadata": {},
     "output_type": "execute_result"
    }
   ],
   "source": [
    "reg_line.score(X_train, y_train)"
   ]
  },
  {
   "cell_type": "code",
   "execution_count": 65,
   "metadata": {},
   "outputs": [
    {
     "data": {
      "text/plain": [
       "array([[1.]])"
      ]
     },
     "execution_count": 65,
     "metadata": {},
     "output_type": "execute_result"
    }
   ],
   "source": [
    "reg_line.coef_"
   ]
  },
  {
   "cell_type": "code",
   "execution_count": 66,
   "metadata": {},
   "outputs": [
    {
     "data": {
      "text/plain": [
       "array([[27.74456356]])"
      ]
     },
     "execution_count": 66,
     "metadata": {},
     "output_type": "execute_result"
    }
   ],
   "source": [
    "reg_line.coef_ * 27.74456356 + reg_line.intercept_"
   ]
  },
  {
   "cell_type": "code",
   "execution_count": 67,
   "metadata": {},
   "outputs": [
    {
     "data": {
      "text/plain": [
       "array([[ 0.32789464],\n",
       "       [ 1.49089555],\n",
       "       [ 1.28863452],\n",
       "       ...,\n",
       "       [ 0.75769933],\n",
       "       [ 0.80826458],\n",
       "       [-1.5683025 ]])"
      ]
     },
     "execution_count": 67,
     "metadata": {},
     "output_type": "execute_result"
    }
   ],
   "source": [
    "pred = reg_line.predict(X_train)\n",
    "pred"
   ]
  },
  {
   "cell_type": "code",
   "execution_count": 68,
   "metadata": {},
   "outputs": [
    {
     "data": {
      "text/plain": [
       "array([[-0.10191004],\n",
       "       [ 0.3784599 ],\n",
       "       [-0.80982364],\n",
       "       ...,\n",
       "       [-1.29019358],\n",
       "       [-0.17775793],\n",
       "       [ 0.68185144]])"
      ]
     },
     "execution_count": 68,
     "metadata": {},
     "output_type": "execute_result"
    }
   ],
   "source": [
    "y_pred = reg_line.predict(X_test)\n",
    "y_pred"
   ]
  },
  {
   "cell_type": "code",
   "execution_count": 69,
   "metadata": {},
   "outputs": [
    {
     "data": {
      "text/plain": [
       "array([[ 7.77156117e-16],\n",
       "       [ 3.55271368e-15],\n",
       "       [ 3.10862447e-15],\n",
       "       ...,\n",
       "       [ 1.77635684e-15],\n",
       "       [ 1.88737914e-15],\n",
       "       [-3.55271368e-15]])"
      ]
     },
     "execution_count": 69,
     "metadata": {},
     "output_type": "execute_result"
    }
   ],
   "source": [
    "pred2 = y_train - pred\n",
    "pred2"
   ]
  },
  {
   "cell_type": "code",
   "execution_count": 70,
   "metadata": {},
   "outputs": [
    {
     "data": {
      "text/plain": [
       "[<matplotlib.lines.Line2D at 0x1d0c5053948>]"
      ]
     },
     "execution_count": 70,
     "metadata": {},
     "output_type": "execute_result"
    },
    {
     "data": {
      "image/png": "[encoded data removed]",
      "text/plain": [
       "<Figure size 1296x576 with 1 Axes>"
      ]
     },
     "metadata": {},
     "output_type": "display_data"
    }
   ],
   "source": [
    "plt.figure(figsize=(18, 8))\n",
    "plt.scatter(pred, y_train)\n",
    "plt.plot(pred, reg_line.predict(X_train), color = \"red\")"
   ]
  },
  {
   "cell_type": "markdown",
   "metadata": {},
   "source": [
    "# Previsão de temperaturas"
   ]
  },
  {
   "cell_type": "code",
   "execution_count": 71,
   "metadata": {},
   "outputs": [
    {
     "data": {
      "text/plain": [
       "array([[-0.10191004]])"
      ]
     },
     "execution_count": 71,
     "metadata": {},
     "output_type": "execute_result"
    }
   ],
   "source": [
    "X_test[0:1]"
   ]
  },
  {
   "cell_type": "code",
   "execution_count": 72,
   "metadata": {},
   "outputs": [
    {
     "data": {
      "text/plain": [
       "array([[-0.10191004]])"
      ]
     },
     "execution_count": 72,
     "metadata": {},
     "output_type": "execute_result"
    }
   ],
   "source": [
    "a1 = X_test[0: 1]\n",
    "a1"
   ]
  },
  {
   "cell_type": "code",
   "execution_count": 73,
   "metadata": {},
   "outputs": [
    {
     "data": {
      "text/plain": [
       "array([-0.10191004])"
      ]
     },
     "execution_count": 73,
     "metadata": {},
     "output_type": "execute_result"
    }
   ],
   "source": [
    "pred = reg_line.predict(a1)[0]\n",
    "pred"
   ]
  },
  {
   "cell_type": "markdown",
   "metadata": {},
   "source": [
    "# Metricas RMSE, R2, MAE, MSE"
   ]
  },
  {
   "cell_type": "code",
   "execution_count": 93,
   "metadata": {},
   "outputs": [
    {
     "name": "stdout",
     "output_type": "stream",
     "text": [
      "MAE: 2.0242871304583398e-15\n"
     ]
    }
   ],
   "source": [
    "from sklearn.metrics import mean_absolute_error\n",
    "from sklearn import metrics\n",
    "from math import sqrt\n",
    "\n",
    "print('MAE:', metrics.mean_absolute_error(y_test, y_pred))"
   ]
  },
  {
   "cell_type": "code",
   "execution_count": 90,
   "metadata": {},
   "outputs": [
    {
     "name": "stdout",
     "output_type": "stream",
     "text": [
      "RMSE 2.3370757184148685e-15\n"
     ]
    }
   ],
   "source": [
    "from sklearn.metrics import mean_absolute_error, mean_squared_error\n",
    "from math import sqrt\n",
    "\n",
    "print(\"RMSE\", np.sqrt(mean_squared_error(y_test, y_pred)))"
   ]
  },
  {
   "cell_type": "code",
   "execution_count": 92,
   "metadata": {},
   "outputs": [
    {
     "name": "stdout",
     "output_type": "stream",
     "text": [
      "MSE: 2.3370757184148685e-15\n"
     ]
    }
   ],
   "source": [
    "from sklearn.metrics import mean_absolute_error\n",
    "\n",
    "print('MSE:', np.sqrt(metrics.mean_squared_error(y_test, y_pred)))"
   ]
  },
  {
   "cell_type": "code",
   "execution_count": 91,
   "metadata": {},
   "outputs": [
    {
     "name": "stdout",
     "output_type": "stream",
     "text": [
      "R2 1.0\n"
     ]
    }
   ],
   "source": [
    "from sklearn.metrics import r2_score\n",
    "\n",
    "print(\"R2\", r2_score(y_test, y_pred))"
   ]
  },
  {
   "cell_type": "markdown",
   "metadata": {},
   "source": [
    "# Salvando o modelo de regressão linear"
   ]
  },
  {
   "cell_type": "code",
   "execution_count": 87,
   "metadata": {},
   "outputs": [],
   "source": [
    "import pickle \n",
    "\n",
    "with open('predict_regre.pkl', 'wb') as file:\n",
    "    pickle.dump(reg_pred, file)"
   ]
  },
  {
   "cell_type": "code",
   "execution_count": null,
   "metadata": {},
   "outputs": [],
   "source": []
  }
 ],
 "metadata": {
  "kernelspec": {
   "display_name": "Python 3",
   "language": "python",
   "name": "python3"
  },
  "language_info": {
   "codemirror_mode": {
    "name": "ipython",
    "version": 3
   },
   "file_extension": ".py",
   "mimetype": "text/x-python",
   "name": "python",
   "nbconvert_exporter": "python",
   "pygments_lexer": "ipython3",
   "version": "3.7.4"
  }
 },
 "nbformat": 4,
 "nbformat_minor": 2
}
